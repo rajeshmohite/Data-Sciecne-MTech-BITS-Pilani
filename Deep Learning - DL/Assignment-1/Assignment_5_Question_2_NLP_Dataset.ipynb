{
 "cells": [
  {
   "cell_type": "markdown",
   "metadata": {
    "id": "lPhjF2tgWKOy"
   },
   "source": [
    "# **Question No.2. NLP Dataset**"
   ]
  },
  {
   "cell_type": "markdown",
   "metadata": {
    "id": "ZRDJOXabmPBV"
   },
   "source": [
    "### **1. Import Libraries/Dataset**"
   ]
  },
  {
   "cell_type": "markdown",
   "metadata": {
    "id": "H5KDcpJBmkV5"
   },
   "source": [
    "##### ***a. Import the required Libraries***"
   ]
  },
  {
   "cell_type": "code",
   "execution_count": null,
   "metadata": {
    "colab": {
     "base_uri": "https://localhost:8080/"
    },
    "executionInfo": {
     "elapsed": 2351,
     "status": "ok",
     "timestamp": 1621768709101,
     "user": {
      "displayName": "RAJESH MOHITE",
      "photoUrl": "https://lh3.googleusercontent.com/a-/AOh14GghQ7aHgWWkg3GMHNJPMIlppFcUNcIzFuL4mowiwQ=s64",
      "userId": "00055132426721799422"
     },
     "user_tz": -330
    },
    "id": "RSIF7zZIWN5T",
    "outputId": "c67a5374-2866-4657-fe84-2d113ed52548"
   },
   "outputs": [
    {
     "name": "stdout",
     "output_type": "stream",
     "text": [
      "Tensorflow Version :  2.4.1\n"
     ]
    }
   ],
   "source": [
    "import tensorflow as tf\n",
    "import pandas as pd\n",
    "import numpy as np\n",
    "import operator\n",
    "import seaborn as sns\n",
    "import matplotlib.pyplot as plt\n",
    "import plotly.express as px\n",
    "from tensorflow.keras import models\n",
    "from tensorflow.keras import layers\n",
    "import tensorflow_datasets as tfds\n",
    "from tensorflow.keras import regularizers\n",
    "import tensorflow.keras as keras\n",
    "print(\"Tensorflow Version : \",tf.__version__)"
   ]
  },
  {
   "cell_type": "markdown",
   "metadata": {
    "id": "c-OQJhWoy3SZ"
   },
   "source": [
    "##### ***Import Dataset***"
   ]
  },
  {
   "cell_type": "code",
   "execution_count": null,
   "metadata": {
    "colab": {
     "base_uri": "https://localhost:8080/",
     "height": 35
    },
    "executionInfo": {
     "elapsed": 20,
     "status": "ok",
     "timestamp": 1621768709111,
     "user": {
      "displayName": "RAJESH MOHITE",
      "photoUrl": "https://lh3.googleusercontent.com/a-/AOh14GghQ7aHgWWkg3GMHNJPMIlppFcUNcIzFuL4mowiwQ=s64",
      "userId": "00055132426721799422"
     },
     "user_tz": -330
    },
    "id": "ZNi-iRFCx3s2",
    "outputId": "71082996-2520-4793-c112-b522d438f01d"
   },
   "outputs": [
    {
     "data": {
      "application/vnd.google.colaboratory.intrinsic+json": {
       "type": "string"
      },
      "text/plain": [
       "'/root/.keras/datasets/IMDB_Dataset.csv'"
      ]
     },
     "execution_count": 2,
     "metadata": {
      "tags": []
     },
     "output_type": "execute_result"
    }
   ],
   "source": [
    "data_path = tf.keras.utils.get_file(\"IMDB_Dataset.csv\", \"https://studymachinelearning.com/wp-content/uploads/2020/03/IMDB-Dataset.csv\",)\n",
    "data_path "
   ]
  },
  {
   "cell_type": "code",
   "execution_count": null,
   "metadata": {
    "id": "LvGvx7xyyD0N"
   },
   "outputs": [],
   "source": [
    "df = pd.read_csv(data_path)"
   ]
  },
  {
   "cell_type": "code",
   "execution_count": null,
   "metadata": {
    "colab": {
     "base_uri": "https://localhost:8080/"
    },
    "executionInfo": {
     "elapsed": 35,
     "status": "ok",
     "timestamp": 1621768709526,
     "user": {
      "displayName": "RAJESH MOHITE",
      "photoUrl": "https://lh3.googleusercontent.com/a-/AOh14GghQ7aHgWWkg3GMHNJPMIlppFcUNcIzFuL4mowiwQ=s64",
      "userId": "00055132426721799422"
     },
     "user_tz": -330
    },
    "id": "NrK0cB4DyDjR",
    "outputId": "d5fa91a5-f872-420f-d3fa-afbfbdcbcbd7"
   },
   "outputs": [
    {
     "data": {
      "text/plain": [
       "(50000, 2)"
      ]
     },
     "execution_count": 4,
     "metadata": {
      "tags": []
     },
     "output_type": "execute_result"
    }
   ],
   "source": [
    "df.shape"
   ]
  },
  {
   "cell_type": "code",
   "execution_count": null,
   "metadata": {
    "colab": {
     "base_uri": "https://localhost:8080/"
    },
    "executionInfo": {
     "elapsed": 33,
     "status": "ok",
     "timestamp": 1621768709526,
     "user": {
      "displayName": "RAJESH MOHITE",
      "photoUrl": "https://lh3.googleusercontent.com/a-/AOh14GghQ7aHgWWkg3GMHNJPMIlppFcUNcIzFuL4mowiwQ=s64",
      "userId": "00055132426721799422"
     },
     "user_tz": -330
    },
    "id": "Iw_0oKHUyDH6",
    "outputId": "5a4a0005-4998-41ae-b159-2fe035d6e1ff"
   },
   "outputs": [
    {
     "data": {
      "text/plain": [
       "negative    25000\n",
       "positive    25000\n",
       "Name: sentiment, dtype: int64"
      ]
     },
     "execution_count": 5,
     "metadata": {
      "tags": []
     },
     "output_type": "execute_result"
    }
   ],
   "source": [
    "df['sentiment'].value_counts()"
   ]
  },
  {
   "cell_type": "code",
   "execution_count": null,
   "metadata": {
    "id": "XOqpAMsgypnq"
   },
   "outputs": [],
   "source": []
  },
  {
   "cell_type": "markdown",
   "metadata": {
    "id": "trPcJeu-m2BA"
   },
   "source": [
    "##### ***b. Check the GPU available (recommended- use free GPU provided by Google Colab)***"
   ]
  },
  {
   "cell_type": "code",
   "execution_count": null,
   "metadata": {
    "colab": {
     "base_uri": "https://localhost:8080/"
    },
    "executionInfo": {
     "elapsed": 29,
     "status": "ok",
     "timestamp": 1621768709528,
     "user": {
      "displayName": "RAJESH MOHITE",
      "photoUrl": "https://lh3.googleusercontent.com/a-/AOh14GghQ7aHgWWkg3GMHNJPMIlppFcUNcIzFuL4mowiwQ=s64",
      "userId": "00055132426721799422"
     },
     "user_tz": -330
    },
    "id": "7tFtH-jom3G5",
    "outputId": "c56177d0-6460-4d9c-b81c-8109036ac24d"
   },
   "outputs": [
    {
     "name": "stdout",
     "output_type": "stream",
     "text": [
      "Sun May 23 11:18:29 2021       \n",
      "+-----------------------------------------------------------------------------+\n",
      "| NVIDIA-SMI 465.19.01    Driver Version: 460.32.03    CUDA Version: 11.2     |\n",
      "|-------------------------------+----------------------+----------------------+\n",
      "| GPU  Name        Persistence-M| Bus-Id        Disp.A | Volatile Uncorr. ECC |\n",
      "| Fan  Temp  Perf  Pwr:Usage/Cap|         Memory-Usage | GPU-Util  Compute M. |\n",
      "|                               |                      |               MIG M. |\n",
      "|===============================+======================+======================|\n",
      "|   0  Tesla T4            Off  | 00000000:00:04.0 Off |                    0 |\n",
      "| N/A   43C    P8     9W /  70W |      0MiB / 15109MiB |      0%      Default |\n",
      "|                               |                      |                  N/A |\n",
      "+-------------------------------+----------------------+----------------------+\n",
      "                                                                               \n",
      "+-----------------------------------------------------------------------------+\n",
      "| Processes:                                                                  |\n",
      "|  GPU   GI   CI        PID   Type   Process name                  GPU Memory |\n",
      "|        ID   ID                                                   Usage      |\n",
      "|=============================================================================|\n",
      "|  No running processes found                                                 |\n",
      "+-----------------------------------------------------------------------------+\n"
     ]
    }
   ],
   "source": [
    "!nvidia-smi"
   ]
  },
  {
   "cell_type": "code",
   "execution_count": null,
   "metadata": {
    "id": "bdPxQTFOrZG8"
   },
   "outputs": [],
   "source": []
  },
  {
   "cell_type": "markdown",
   "metadata": {
    "id": "Guild8Xmnaiy"
   },
   "source": [
    "### **2. Data Visualization**"
   ]
  },
  {
   "cell_type": "markdown",
   "metadata": {
    "id": "EFL_--7Trb40"
   },
   "source": [
    "##### ***a. Print at least two movie reviews from each class of the dataset, for a sanity check that labels match the text***"
   ]
  },
  {
   "cell_type": "code",
   "execution_count": null,
   "metadata": {
    "colab": {
     "base_uri": "https://localhost:8080/"
    },
    "executionInfo": {
     "elapsed": 21,
     "status": "ok",
     "timestamp": 1621768709529,
     "user": {
      "displayName": "RAJESH MOHITE",
      "photoUrl": "https://lh3.googleusercontent.com/a-/AOh14GghQ7aHgWWkg3GMHNJPMIlppFcUNcIzFuL4mowiwQ=s64",
      "userId": "00055132426721799422"
     },
     "user_tz": -330
    },
    "id": "pejFaJW1zmn1",
    "outputId": "e76132ca-d385-497a-94c1-1f168eaf396e"
   },
   "outputs": [
    {
     "name": "stdout",
     "output_type": "stream",
     "text": [
      "Review : \n",
      "\n",
      "A wonderful little production. <br /><br />The filming technique is very unassuming- very old-time-BBC fashion and gives a comforting, and sometimes discomforting, sense of realism to the entire piece. <br /><br />The actors are extremely well chosen- Michael Sheen not only \"has got all the polari\" but he has all the voices down pat too! You can truly see the seamless editing guided by the references to Williams' diary entries, not only is it well worth the watching but it is a terrificly written and performed piece. A masterful production about one of the great master's of comedy and his life. <br /><br />The realism really comes home with the little things: the fantasy of the guard which, rather than use the traditional 'dream' techniques remains solid then disappears. It plays on our knowledge and our senses, particularly with the scenes concerning Orton and Halliwell and the sets (particularly of their flat with Halliwell's murals decorating every surface) are terribly well done. \n",
      " \n",
      "Label  : positive\n"
     ]
    }
   ],
   "source": [
    "print(f\"Review : \\n\\n{df['review'].iloc[1]} \\n \")\n",
    "print(f\"Label  : {df['sentiment'].iloc[1]}\")"
   ]
  },
  {
   "cell_type": "code",
   "execution_count": null,
   "metadata": {
    "colab": {
     "base_uri": "https://localhost:8080/"
    },
    "executionInfo": {
     "elapsed": 16,
     "status": "ok",
     "timestamp": 1621768709530,
     "user": {
      "displayName": "RAJESH MOHITE",
      "photoUrl": "https://lh3.googleusercontent.com/a-/AOh14GghQ7aHgWWkg3GMHNJPMIlppFcUNcIzFuL4mowiwQ=s64",
      "userId": "00055132426721799422"
     },
     "user_tz": -330
    },
    "id": "uyhJoOeezuZP",
    "outputId": "2db109c5-dcce-42fb-ab39-809e1bf49dcc"
   },
   "outputs": [
    {
     "name": "stdout",
     "output_type": "stream",
     "text": [
      "Review : \n",
      "\n",
      "Basically there's a family where a little boy (Jake) thinks there's a zombie in his closet & his parents are fighting all the time.<br /><br />This movie is slower than a soap opera... and suddenly, Jake decides to become Rambo and kill the zombie.<br /><br />OK, first of all when you're going to make a film you must Decide if its a thriller or a drama! As a drama the movie is watchable. Parents are divorcing & arguing like in real life. And then we have Jake with his closet which totally ruins all the film! I expected to see a BOOGEYMAN similar movie, and instead i watched a drama with some meaningless thriller spots.<br /><br />3 out of 10 just for the well playing parents & descent dialogs. As for the shots with Jake: just ignore them. \n",
      " \n",
      "Label  : negative\n"
     ]
    }
   ],
   "source": [
    "print(f\"Review : \\n\\n{df['review'].iloc[3]} \\n \")\n",
    "print(f\"Label  : {df['sentiment'].iloc[3]}\")"
   ]
  },
  {
   "cell_type": "code",
   "execution_count": null,
   "metadata": {
    "id": "QpJbZFwa0Xo0"
   },
   "outputs": [],
   "source": []
  },
  {
   "cell_type": "markdown",
   "metadata": {
    "id": "bhRoDe24uNwl"
   },
   "source": [
    "##### ***b. Plot a bar graph of class distribution in a dataset. Each bar depicts the number of tweets belonging to a particular sentiment. (recommended - matplotlib/seaborn libraries)***"
   ]
  },
  {
   "cell_type": "code",
   "execution_count": null,
   "metadata": {
    "colab": {
     "base_uri": "https://localhost:8080/",
     "height": 295
    },
    "executionInfo": {
     "elapsed": 668,
     "status": "ok",
     "timestamp": 1621768710188,
     "user": {
      "displayName": "RAJESH MOHITE",
      "photoUrl": "https://lh3.googleusercontent.com/a-/AOh14GghQ7aHgWWkg3GMHNJPMIlppFcUNcIzFuL4mowiwQ=s64",
      "userId": "00055132426721799422"
     },
     "user_tz": -330
    },
    "id": "krl22w1x3ADp",
    "outputId": "622803cc-58e4-46d4-b9d2-944acb32a9b8"
   },
   "outputs": [
    {
     "data": {
      "image/png": "[encoded data removed]",
      "text/plain": [
       "<Figure size 432x288 with 1 Axes>"
      ]
     },
     "metadata": {
      "needs_background": "light",
      "tags": []
     },
     "output_type": "display_data"
    }
   ],
   "source": [
    "counts = df[\"sentiment\"].value_counts()\n",
    "plt.bar(range(len(counts)), counts)\n",
    "labels = ['positive', 'negative']\n",
    "# plt.xticks(x, labels, rotation='vertical')  look into this\n",
    "plt.xlabel(labels)\n",
    "plt.ylabel('number of tweets')\n",
    "plt.title(label='Sentiment Tweets') \n",
    "plt.show()"
   ]
  },
  {
   "cell_type": "code",
   "execution_count": null,
   "metadata": {
    "id": "vpyCtidQ0mTQ"
   },
   "outputs": [],
   "source": []
  },
  {
   "cell_type": "markdown",
   "metadata": {
    "id": "3xOqtK3-5WrL"
   },
   "source": [
    "##### ***c. Any other visualizations that seem appropriate for this problem are encouraged but not necessary, for the points***"
   ]
  },
  {
   "cell_type": "code",
   "execution_count": null,
   "metadata": {
    "colab": {
     "base_uri": "https://localhost:8080/",
     "height": 295
    },
    "executionInfo": {
     "elapsed": 24,
     "status": "ok",
     "timestamp": 1621768710191,
     "user": {
      "displayName": "RAJESH MOHITE",
      "photoUrl": "https://lh3.googleusercontent.com/a-/AOh14GghQ7aHgWWkg3GMHNJPMIlppFcUNcIzFuL4mowiwQ=s64",
      "userId": "00055132426721799422"
     },
     "user_tz": -330
    },
    "id": "6WcWowl16TtX",
    "outputId": "1708fcf5-cfd1-4867-d2c8-4a20894f15d2"
   },
   "outputs": [
    {
     "data": {
      "image/png": "[encoded data removed]",
      "text/plain": [
       "<Figure size 432x288 with 1 Axes>"
      ]
     },
     "metadata": {
      "needs_background": "light",
      "tags": []
     },
     "output_type": "display_data"
    }
   ],
   "source": [
    "positive_tweets = df[\"sentiment\"][df[\"sentiment\"] == \"positive\"]\n",
    "negative_tweets = df[\"sentiment\"][df[\"sentiment\"] == \"negative\"]\n",
    "plt.hist([\n",
    "         positive_tweets,\n",
    "         negative_tweets\n",
    "    ],\n",
    "     stacked=True,\n",
    "     label=[\"positive\", \"negative\"])\n",
    "plt.title(\"Sentiment Tweets\")\n",
    "plt.xlabel(\"sentiments\")\n",
    "plt.ylabel(\"number of tweets\")\n",
    "plt.show()"
   ]
  },
  {
   "cell_type": "markdown",
   "metadata": {
    "id": "85TQGjRl7Swe"
   },
   "source": [
    "##### ***d. Print the shapes of train and test data***"
   ]
  },
  {
   "cell_type": "code",
   "execution_count": null,
   "metadata": {
    "colab": {
     "base_uri": "https://localhost:8080/"
    },
    "executionInfo": {
     "elapsed": 21,
     "status": "ok",
     "timestamp": 1621768710192,
     "user": {
      "displayName": "RAJESH MOHITE",
      "photoUrl": "https://lh3.googleusercontent.com/a-/AOh14GghQ7aHgWWkg3GMHNJPMIlppFcUNcIzFuL4mowiwQ=s64",
      "userId": "00055132426721799422"
     },
     "user_tz": -330
    },
    "id": "EWbpbjkJ0xEb",
    "outputId": "1199e2ec-9c64-4c7d-f226-4c2cfe99a729"
   },
   "outputs": [
    {
     "name": "stdout",
     "output_type": "stream",
     "text": [
      "Train data shape: (40000, 2)\n",
      "Test  data shape: (10000, 2)\n"
     ]
    }
   ],
   "source": [
    "df['sentiment'] = df['sentiment'].map({'positive':0,'negative':1})\n",
    "\n",
    "train_df = df.sample(frac=0.8,random_state=100)\n",
    "test_df = df.drop(train_df.index)\n",
    "\n",
    "print(f\"Train data shape: {train_df.shape}\")\n",
    "print(f\"Test  data shape: {test_df.shape}\")"
   ]
  },
  {
   "cell_type": "code",
   "execution_count": null,
   "metadata": {
    "id": "aNhSoshA1F5W"
   },
   "outputs": [],
   "source": []
  },
  {
   "cell_type": "markdown",
   "metadata": {
    "id": "Ra8RMl_Vn7uG"
   },
   "source": [
    "### **3. Data Pre-processing**"
   ]
  },
  {
   "cell_type": "markdown",
   "metadata": {
    "id": "zJsghj3F1ZFL"
   },
   "source": [
    "##### ***a. Since the ML models cannot accept string inputs or cannot be of the string format, machine can understand the numbers only not a text, so converting text word to number by assigning the unique number to each word. This process is called tokenization and a unique number which assigns to a word is called token.***"
   ]
  },
  {
   "cell_type": "code",
   "execution_count": null,
   "metadata": {
    "colab": {
     "base_uri": "https://localhost:8080/"
    },
    "executionInfo": {
     "elapsed": 14518,
     "status": "ok",
     "timestamp": 1621768724695,
     "user": {
      "displayName": "RAJESH MOHITE",
      "photoUrl": "https://lh3.googleusercontent.com/a-/AOh14GghQ7aHgWWkg3GMHNJPMIlppFcUNcIzFuL4mowiwQ=s64",
      "userId": "00055132426721799422"
     },
     "user_tz": -330
    },
    "id": "Nm4VJ0No1tY9",
    "outputId": "56e941d6-07d6-40c6-c966-b2f412b56dbf"
   },
   "outputs": [
    {
     "name": "stdout",
     "output_type": "stream",
     "text": [
      "Train data shape: (40000, 100)\n",
      "Test  data shape: (10000, 100)\n"
     ]
    }
   ],
   "source": [
    "tokenizer  = tf.keras.preprocessing.text.Tokenizer(num_words=8000)\n",
    "tokenizer.fit_on_texts(np.append(train_df['review'].values,test_df['review'].values))\n",
    "\n",
    "word_index = tokenizer.word_index\n",
    "nb_words = len(word_index) + 1\n",
    "\n",
    "train_seq = tokenizer.texts_to_sequences(train_df[\"review\"])\n",
    "test_seq = tokenizer.texts_to_sequences(test_df[\"review\"])\n",
    "\n",
    "train_data = tf.keras.preprocessing.sequence.pad_sequences(train_seq, maxlen=100)\n",
    "test_data = tf.keras.preprocessing.sequence.pad_sequences(test_seq, maxlen=100)\n",
    "\n",
    "print(f\"Train data shape: {train_data.shape}\")\n",
    "print(f\"Test  data shape: {test_data.shape}\")"
   ]
  },
  {
   "cell_type": "markdown",
   "metadata": {
    "id": "JoM1xCii2xh-"
   },
   "source": [
    "##### ***tokenizer.word_index returns the dictionary of words along with their uniquely assigned integer number. Let’s print how many unique word present in our dataset.***"
   ]
  },
  {
   "cell_type": "code",
   "execution_count": null,
   "metadata": {
    "colab": {
     "base_uri": "https://localhost:8080/"
    },
    "executionInfo": {
     "elapsed": 31,
     "status": "ok",
     "timestamp": 1621768724697,
     "user": {
      "displayName": "RAJESH MOHITE",
      "photoUrl": "https://lh3.googleusercontent.com/a-/AOh14GghQ7aHgWWkg3GMHNJPMIlppFcUNcIzFuL4mowiwQ=s64",
      "userId": "00055132426721799422"
     },
     "user_tz": -330
    },
    "id": "iel_-__W-VNV",
    "outputId": "939d03e8-0f90-4132-800e-22f2ae4f4881"
   },
   "outputs": [
    {
     "data": {
      "text/plain": [
       "124252"
      ]
     },
     "execution_count": 13,
     "metadata": {
      "tags": []
     },
     "output_type": "execute_result"
    }
   ],
   "source": [
    "len(word_index)"
   ]
  },
  {
   "cell_type": "markdown",
   "metadata": {
    "id": "23KDoh53-hMw"
   },
   "source": [
    "##### ***c. Bring the train and test data in the required format.***"
   ]
  },
  {
   "cell_type": "code",
   "execution_count": null,
   "metadata": {
    "id": "TSE92f3--mNP"
   },
   "outputs": [],
   "source": [
    "train_label = train_df['sentiment'].values\n",
    "test_label = test_df['sentiment'].values"
   ]
  },
  {
   "cell_type": "code",
   "execution_count": null,
   "metadata": {
    "colab": {
     "base_uri": "https://localhost:8080/"
    },
    "executionInfo": {
     "elapsed": 27,
     "status": "ok",
     "timestamp": 1621768724699,
     "user": {
      "displayName": "RAJESH MOHITE",
      "photoUrl": "https://lh3.googleusercontent.com/a-/AOh14GghQ7aHgWWkg3GMHNJPMIlppFcUNcIzFuL4mowiwQ=s64",
      "userId": "00055132426721799422"
     },
     "user_tz": -330
    },
    "id": "Fph6HBtv-lrx",
    "outputId": "eed3fc2b-01dc-4326-f24e-725612f434ab"
   },
   "outputs": [
    {
     "name": "stdout",
     "output_type": "stream",
     "text": [
      "int64\n",
      "int64\n"
     ]
    }
   ],
   "source": [
    "print(train_label.dtype)\n",
    "print(test_label.dtype)"
   ]
  },
  {
   "cell_type": "markdown",
   "metadata": {
    "id": "km-BdDmloEW-"
   },
   "source": [
    "### **4. Model Building**"
   ]
  },
  {
   "cell_type": "markdown",
   "metadata": {
    "id": "tp4hWnfuQcyS"
   },
   "source": [
    "***a. Sequential Model layers- Use AT LEAST 3 hidden layers with appropriate input for each. Choose the best number for hidden units and give reasons.***\n",
    "\n",
    "***b. Add L2 regularization to all the layers.***\n",
    "\n",
    "***c. Add one layer of dropout at the appropriate position and give reasons.***\n",
    "\n",
    "***d. Choose the appropriate activation function for all the layers.***\n",
    "\n",
    "***e. Print the model summary.***"
   ]
  },
  {
   "cell_type": "code",
   "execution_count": null,
   "metadata": {
    "id": "WINTINP-5oiE"
   },
   "outputs": [],
   "source": [
    "dnnModel = models.Sequential()\n",
    "\n",
    "dnnModel.add(layers.Dense(64, activation='relu', input_shape=(100,)))\n",
    "\n",
    "# Add dropout of 50% to layer 1\n",
    "dnnModel.add(layers.Dropout(0.5))\n",
    "\n",
    "# Layer 3 = hidden layer \n",
    "dnnModel.add(layers.Dense(64, activation='relu', kernel_regularizer=regularizers.l2(0.01)) )\n",
    "\n",
    "# Layer 4 = hidden layer \n",
    "dnnModel.add(layers.Dense(32, activation='relu', kernel_regularizer=regularizers.l2(0.01)) )\n",
    "\n",
    "# Layer 5 = hidden layer \n",
    "dnnModel.add(layers.Dense(16, activation='relu', kernel_regularizer=regularizers.l2(0.01)) )\n",
    "\n",
    "# Layer 6 = output layer\n",
    "dnnModel.add(layers.Dense(1, activation='sigmoid'))\n"
   ]
  },
  {
   "cell_type": "markdown",
   "metadata": {
    "id": "fCpEBCPgRlrY"
   },
   "source": [
    "**Reasons for using dropout layer**\n",
    "\n",
    "*Generally dropout value of 20%-50% of neurons providing a good starting point. In larger network, we are likely to get better performance when dropout is used, giving the model more of an opportunity to learn independent representations.*"
   ]
  },
  {
   "cell_type": "code",
   "execution_count": null,
   "metadata": {
    "colab": {
     "base_uri": "https://localhost:8080/"
    },
    "executionInfo": {
     "elapsed": 18,
     "status": "ok",
     "timestamp": 1621768725424,
     "user": {
      "displayName": "RAJESH MOHITE",
      "photoUrl": "https://lh3.googleusercontent.com/a-/AOh14GghQ7aHgWWkg3GMHNJPMIlppFcUNcIzFuL4mowiwQ=s64",
      "userId": "00055132426721799422"
     },
     "user_tz": -330
    },
    "id": "n_R1WKNPoHyK",
    "outputId": "79895eea-ab8d-42b2-9ac4-156237c5124f"
   },
   "outputs": [
    {
     "name": "stdout",
     "output_type": "stream",
     "text": [
      "Model: \"sequential\"\n",
      "_________________________________________________________________\n",
      "Layer (type)                 Output Shape              Param #   \n",
      "=================================================================\n",
      "dense (Dense)                (None, 64)                6464      \n",
      "_________________________________________________________________\n",
      "dropout (Dropout)            (None, 64)                0         \n",
      "_________________________________________________________________\n",
      "dense_1 (Dense)              (None, 64)                4160      \n",
      "_________________________________________________________________\n",
      "dense_2 (Dense)              (None, 32)                2080      \n",
      "_________________________________________________________________\n",
      "dense_3 (Dense)              (None, 16)                528       \n",
      "_________________________________________________________________\n",
      "dense_4 (Dense)              (None, 1)                 17        \n",
      "=================================================================\n",
      "Total params: 13,249\n",
      "Trainable params: 13,249\n",
      "Non-trainable params: 0\n",
      "_________________________________________________________________\n"
     ]
    }
   ],
   "source": [
    "dnnModel.summary()"
   ]
  },
  {
   "cell_type": "code",
   "execution_count": null,
   "metadata": {
    "id": "5GXdKKCTSoAp"
   },
   "outputs": [],
   "source": []
  },
  {
   "cell_type": "markdown",
   "metadata": {
    "id": "DG00DjRFS0NL"
   },
   "source": [
    "### **5. Model Compilation**"
   ]
  },
  {
   "cell_type": "markdown",
   "metadata": {
    "id": "kxbdmVijTLnn"
   },
   "source": [
    "***a. Compile the model with the appropriate loss function.***\n",
    "\n",
    "***b. Use an appropriate optimizer. Give reasons for the choice of learning rate and its value.***\n",
    "\n",
    "***c. Use accuracy as a metric.***"
   ]
  },
  {
   "cell_type": "code",
   "execution_count": null,
   "metadata": {
    "id": "F3AvW5hiSwnA"
   },
   "outputs": [],
   "source": [
    "dnnModel.compile(optimizer='adam',\n",
    "              loss=tf.losses.BinaryCrossentropy(from_logits=True),\n",
    "              metrics=['accuracy'])"
   ]
  },
  {
   "cell_type": "markdown",
   "metadata": {
    "id": "5xDqLEGZVMDi"
   },
   "source": [
    "\n",
    "**Reason for using Binary cross-entropy loss function**\n",
    "\n",
    "*Binary cross-entropy which is another special case of cross-entropy used as loss function. As our target is either 0 or 1. In a neural network,we  typically achieve this prediction by sigmoid activation. This loss can be computed with the cross-entropy function since we are now comparing just two probability vectors or even with categorical cross-entropy since our target is a one-hot vector. It can also be computed without the conversion with a binary cross-entropy.*"
   ]
  },
  {
   "cell_type": "markdown",
   "metadata": {
    "id": "JaMIKeWxXR1w"
   },
   "source": [
    "**Reason for using adam optimizer**\n",
    "\n",
    "*Adam is an optimization algorithm that can be used instead of the classical stochastic gradient descent procedure to update network weights iterative based in training data.*\n",
    "\n",
    "*Attractive benefits of using Adam on non-convex optimization problems, as follows:*\n",
    "\n",
    "*   Straightforward to implement.\n",
    "*   Computationally efficient.\n",
    "*   Little memory requirements.\n",
    "*   Invariant to diagonal rescale of the gradients.\n",
    "*   Well suited for problems that are large in terms of data and/or parameters.\n",
    "*   Appropriate for non-stationary objectives.\n",
    "*   Appropriate for problems with very noisy/or sparse gradients.\n",
    "*   Hyper-parameters have intuitive interpretation and typically require little tuning."
   ]
  },
  {
   "cell_type": "code",
   "execution_count": null,
   "metadata": {
    "id": "9OlGk8-pYfV-"
   },
   "outputs": [],
   "source": []
  },
  {
   "cell_type": "markdown",
   "metadata": {
    "id": "JhUe4btToYY_"
   },
   "source": [
    "### **6. Model Training**"
   ]
  },
  {
   "cell_type": "markdown",
   "metadata": {
    "id": "07nrtIxEay0Z"
   },
   "source": [
    "\n",
    "***a. Train the model for an appropriate number of epochs. Print the train and validation accuracy and loss for each epoch. Use the appropriate batch size.***\n",
    "\n",
    "***b. Plot the loss and accuracy history graphs for both train and validation set. Print the total time taken for training.***"
   ]
  },
  {
   "cell_type": "code",
   "execution_count": null,
   "metadata": {
    "colab": {
     "base_uri": "https://localhost:8080/"
    },
    "executionInfo": {
     "elapsed": 20798,
     "status": "ok",
     "timestamp": 1621768746209,
     "user": {
      "displayName": "RAJESH MOHITE",
      "photoUrl": "https://lh3.googleusercontent.com/a-/AOh14GghQ7aHgWWkg3GMHNJPMIlppFcUNcIzFuL4mowiwQ=s64",
      "userId": "00055132426721799422"
     },
     "user_tz": -330
    },
    "id": "duyd1oyy7sBx",
    "outputId": "10220b7b-5982-4675-e888-a2385f14c90a"
   },
   "outputs": [
    {
     "name": "stdout",
     "output_type": "stream",
     "text": [
      "Epoch 1/10\n",
      "1250/1250 [==============================] - 4s 3ms/step - loss: 39.9832 - accuracy: 0.4982 - val_loss: 1.8740 - val_accuracy: 0.4959\n",
      "Epoch 2/10\n",
      "1250/1250 [==============================] - 3s 2ms/step - loss: 1.9393 - accuracy: 0.4957 - val_loss: 1.7955 - val_accuracy: 0.4964\n",
      "Epoch 3/10\n",
      "1250/1250 [==============================] - 3s 2ms/step - loss: 1.7911 - accuracy: 0.5022 - val_loss: 1.6808 - val_accuracy: 0.4971\n",
      "Epoch 4/10\n",
      "1250/1250 [==============================] - 3s 2ms/step - loss: 1.6508 - accuracy: 0.5021 - val_loss: 1.5171 - val_accuracy: 0.5031\n",
      "Epoch 5/10\n",
      "1250/1250 [==============================] - 3s 2ms/step - loss: 1.4711 - accuracy: 0.5017 - val_loss: 1.3082 - val_accuracy: 0.5036\n",
      "Epoch 6/10\n",
      "1250/1250 [==============================] - 3s 2ms/step - loss: 1.2519 - accuracy: 0.4958 - val_loss: 1.0826 - val_accuracy: 0.4964\n",
      "Epoch 7/10\n",
      "1250/1250 [==============================] - 3s 2ms/step - loss: 1.0309 - accuracy: 0.4979 - val_loss: 0.8895 - val_accuracy: 0.4964\n",
      "Restoring model weights from the end of the best epoch.\n",
      "Epoch 00007: early stopping\n"
     ]
    }
   ],
   "source": [
    "import time\n",
    "\n",
    "call_back = [tf.keras.callbacks.EarlyStopping(monitor=\"val_accuracy\",patience=2,\n",
    "verbose=1,restore_best_weights=True)]\n",
    "\n",
    "start_time = time.time()\n",
    "\n",
    "history = dnnModel.fit(train_data, train_label, epochs=10, batch_size=32,\n",
    "          validation_data = (test_data,test_label),\n",
    "          callbacks=call_back)"
   ]
  },
  {
   "cell_type": "code",
   "execution_count": null,
   "metadata": {
    "colab": {
     "base_uri": "https://localhost:8080/"
    },
    "executionInfo": {
     "elapsed": 44,
     "status": "ok",
     "timestamp": 1621768746210,
     "user": {
      "displayName": "RAJESH MOHITE",
      "photoUrl": "https://lh3.googleusercontent.com/a-/AOh14GghQ7aHgWWkg3GMHNJPMIlppFcUNcIzFuL4mowiwQ=s64",
      "userId": "00055132426721799422"
     },
     "user_tz": -330
    },
    "id": "LdC2i8yoErRE",
    "outputId": "ea8c9a8f-b4e2-427a-e8a6-5eea642c8e85"
   },
   "outputs": [
    {
     "name": "stdout",
     "output_type": "stream",
     "text": [
      "Total Time taken for Training:  21.179584741592407 Seconds\n"
     ]
    }
   ],
   "source": [
    "print(\"Total Time taken for Training: \", time.time() - start_time, \"Seconds\")"
   ]
  },
  {
   "cell_type": "code",
   "execution_count": null,
   "metadata": {
    "colab": {
     "base_uri": "https://localhost:8080/"
    },
    "executionInfo": {
     "elapsed": 35,
     "status": "ok",
     "timestamp": 1621768746211,
     "user": {
      "displayName": "RAJESH MOHITE",
      "photoUrl": "https://lh3.googleusercontent.com/a-/AOh14GghQ7aHgWWkg3GMHNJPMIlppFcUNcIzFuL4mowiwQ=s64",
      "userId": "00055132426721799422"
     },
     "user_tz": -330
    },
    "id": "f2ALx2LrRhxl",
    "outputId": "4313eb0e-5f1b-419b-aa4a-1d82b5d5b14b"
   },
   "outputs": [
    {
     "data": {
      "text/plain": [
       "{'accuracy': [0.4975000023841858,\n",
       "  0.500124990940094,\n",
       "  0.5017750263214111,\n",
       "  0.49877500534057617,\n",
       "  0.5011749863624573,\n",
       "  0.4954499900341034,\n",
       "  0.49912500381469727],\n",
       " 'loss': [13.917261123657227,\n",
       "  1.8941185474395752,\n",
       "  1.758588433265686,\n",
       "  1.6087604761123657,\n",
       "  1.418562412261963,\n",
       "  1.1954461336135864,\n",
       "  0.9818615913391113],\n",
       " 'val_accuracy': [0.4959000051021576,\n",
       "  0.49639999866485596,\n",
       "  0.49709999561309814,\n",
       "  0.5030999779701233,\n",
       "  0.503600001335144,\n",
       "  0.49639999866485596,\n",
       "  0.49639999866485596],\n",
       " 'val_loss': [1.8740124702453613,\n",
       "  1.7954621315002441,\n",
       "  1.680797815322876,\n",
       "  1.5171185731887817,\n",
       "  1.308198094367981,\n",
       "  1.0825997591018677,\n",
       "  0.8894959092140198]}"
      ]
     },
     "execution_count": 21,
     "metadata": {
      "tags": []
     },
     "output_type": "execute_result"
    }
   ],
   "source": [
    " history.history"
   ]
  },
  {
   "cell_type": "code",
   "execution_count": null,
   "metadata": {
    "colab": {
     "base_uri": "https://localhost:8080/"
    },
    "executionInfo": {
     "elapsed": 29,
     "status": "ok",
     "timestamp": 1621768746212,
     "user": {
      "displayName": "RAJESH MOHITE",
      "photoUrl": "https://lh3.googleusercontent.com/a-/AOh14GghQ7aHgWWkg3GMHNJPMIlppFcUNcIzFuL4mowiwQ=s64",
      "userId": "00055132426721799422"
     },
     "user_tz": -330
    },
    "id": "XPLdnN62F-pj",
    "outputId": "90ade2a7-b818-4e8f-b47f-79c5e6f4e931"
   },
   "outputs": [
    {
     "name": "stdout",
     "output_type": "stream",
     "text": [
      "Final training loss \t 0.9818615913391113\n",
      "Final training accuracy  0.49912500381469727\n"
     ]
    }
   ],
   "source": [
    "print('Final training loss \\t', history.history['loss'][-1])\n",
    "print('Final training accuracy ', history.history['accuracy'][-1])"
   ]
  },
  {
   "cell_type": "markdown",
   "metadata": {
    "id": "asPtTyUnZewW"
   },
   "source": [
    "##### ***Training and Validation Loss Graph***"
   ]
  },
  {
   "cell_type": "code",
   "execution_count": null,
   "metadata": {
    "colab": {
     "base_uri": "https://localhost:8080/",
     "height": 295
    },
    "executionInfo": {
     "elapsed": 1160,
     "status": "ok",
     "timestamp": 1621768747351,
     "user": {
      "displayName": "RAJESH MOHITE",
      "photoUrl": "https://lh3.googleusercontent.com/a-/AOh14GghQ7aHgWWkg3GMHNJPMIlppFcUNcIzFuL4mowiwQ=s64",
      "userId": "00055132426721799422"
     },
     "user_tz": -330
    },
    "id": "7FZh3b0UNWfo",
    "outputId": "8e70cc07-c2d9-4135-d1b5-c5f8d623b8c7"
   },
   "outputs": [
    {
     "data": {
      "image/png": "[encoded data removed]",
      "text/plain": [
       "<Figure size 432x288 with 1 Axes>"
      ]
     },
     "metadata": {
      "needs_background": "light",
      "tags": []
     },
     "output_type": "display_data"
    }
   ],
   "source": [
    "plt.plot(history.history['loss'], label='Train loss')\n",
    "plt.plot(history.history['val_loss'], label='Val loss') \n",
    "plt.xlabel('Epochs')\n",
    "plt.ylabel('Loss')\n",
    "plt.title('Plot of Training Loss')\n",
    "plt.legend()\n",
    "plt.show()"
   ]
  },
  {
   "cell_type": "markdown",
   "metadata": {
    "id": "SAUo7vSkZVKn"
   },
   "source": [
    "\n",
    "##### ***Training and Validation Accuracy Graph***"
   ]
  },
  {
   "cell_type": "code",
   "execution_count": null,
   "metadata": {
    "colab": {
     "base_uri": "https://localhost:8080/",
     "height": 295
    },
    "executionInfo": {
     "elapsed": 22,
     "status": "ok",
     "timestamp": 1621768747353,
     "user": {
      "displayName": "RAJESH MOHITE",
      "photoUrl": "https://lh3.googleusercontent.com/a-/AOh14GghQ7aHgWWkg3GMHNJPMIlppFcUNcIzFuL4mowiwQ=s64",
      "userId": "00055132426721799422"
     },
     "user_tz": -330
    },
    "id": "UVtB4jGwNULo",
    "outputId": "3a32bb09-6a51-4e44-c9d5-097d9e3d4eb1"
   },
   "outputs": [
    {
     "data": {
      "image/png": "[encoded data removed]",
      "text/plain": [
       "<Figure size 432x288 with 1 Axes>"
      ]
     },
     "metadata": {
      "needs_background": "light",
      "tags": []
     },
     "output_type": "display_data"
    }
   ],
   "source": [
    "plt.plot(history.history['accuracy'], label='train')\n",
    "plt.plot(history.history['val_accuracy'], label='validation')\n",
    "plt.xlabel('Epochs')\n",
    "plt.ylabel('Loss')\n",
    "plt.title('Plot of Accuracy')\n",
    "plt.legend()\n",
    "plt.show()"
   ]
  },
  {
   "cell_type": "markdown",
   "metadata": {
    "id": "km0c2vc4oh5M"
   },
   "source": [
    "### **7. Model Evaluation**"
   ]
  },
  {
   "cell_type": "markdown",
   "metadata": {
    "id": "sIFg6YUabZqL"
   },
   "source": [
    "***a. Print the final train and validation loss and accuracy. Print confusion matrix and classification report for the validation dataset. Analyse and report the best and worst performing class.***"
   ]
  },
  {
   "cell_type": "code",
   "execution_count": null,
   "metadata": {
    "colab": {
     "base_uri": "https://localhost:8080/"
    },
    "executionInfo": {
     "elapsed": 939,
     "status": "ok",
     "timestamp": 1621768748274,
     "user": {
      "displayName": "RAJESH MOHITE",
      "photoUrl": "https://lh3.googleusercontent.com/a-/AOh14GghQ7aHgWWkg3GMHNJPMIlppFcUNcIzFuL4mowiwQ=s64",
      "userId": "00055132426721799422"
     },
     "user_tz": -330
    },
    "id": "YI4GShdwoqQ9",
    "outputId": "97169c6e-1ae6-4ca1-d644-9666569e3970"
   },
   "outputs": [
    {
     "name": "stdout",
     "output_type": "stream",
     "text": [
      "313/313 [==============================] - 1s 2ms/step - loss: 1.3082 - accuracy: 0.5036\n",
      "Accuracy : 0.503600001335144\n",
      "Loss     : 1.308198094367981\n"
     ]
    }
   ],
   "source": [
    "loss, accuracy = dnnModel.evaluate(test_data,test_label)\n",
    "\n",
    "print(f\"Accuracy : {accuracy}\")\n",
    "print(f\"Loss     : {loss}\")"
   ]
  },
  {
   "cell_type": "code",
   "execution_count": null,
   "metadata": {
    "colab": {
     "base_uri": "https://localhost:8080/",
     "height": 402
    },
    "executionInfo": {
     "elapsed": 16,
     "status": "ok",
     "timestamp": 1621768748276,
     "user": {
      "displayName": "RAJESH MOHITE",
      "photoUrl": "https://lh3.googleusercontent.com/a-/AOh14GghQ7aHgWWkg3GMHNJPMIlppFcUNcIzFuL4mowiwQ=s64",
      "userId": "00055132426721799422"
     },
     "user_tz": -330
    },
    "id": "rwUxBrTe_Xtk",
    "outputId": "4625bcb5-956f-4620-fd80-1373f7beb7eb"
   },
   "outputs": [
    {
     "name": "stderr",
     "output_type": "stream",
     "text": [
      "/usr/local/lib/python3.7/dist-packages/tensorflow/python/keras/engine/sequential.py:450: UserWarning:\n",
      "\n",
      "`model.predict_classes()` is deprecated and will be removed after 2021-01-01. Please use instead:* `np.argmax(model.predict(x), axis=-1)`,   if your model does multi-class classification   (e.g. if it uses a `softmax` last-layer activation).* `(model.predict(x) > 0.5).astype(\"int32\")`,   if your model does binary classification   (e.g. if it uses a `sigmoid` last-layer activation).\n",
      "\n"
     ]
    },
    {
     "data": {
      "image/png": "[encoded data removed]",
      "text/plain": [
       "<Figure size 288x288 with 2 Axes>"
      ]
     },
     "metadata": {
      "needs_background": "light",
      "tags": []
     },
     "output_type": "display_data"
    }
   ],
   "source": [
    "classes=[\"positive\",\"negative\"]\n",
    "y_pred= dnnModel.predict_classes(test_data)\n",
    "con_mat = tf.math.confusion_matrix(labels= test_label, predictions=y_pred).numpy()\n",
    "\n",
    "con_mat_norm = np.around(con_mat.astype('float') / con_mat.sum(axis=1)[:, np.newaxis], decimals=2)\n",
    "\n",
    "con_mat_df = pd.DataFrame(con_mat_norm,\n",
    "                     index = classes, \n",
    "                     columns = classes)\n",
    "\n",
    "figure = plt.figure(figsize=(4, 4))\n",
    "sns.heatmap(con_mat_df, annot=True,cmap=plt.cm.Blues)\n",
    "plt.tight_layout()\n",
    "plt.ylabel('True label')\n",
    "plt.xlabel('Predicted label')\n",
    "plt.show()\n"
   ]
  },
  {
   "cell_type": "markdown",
   "metadata": {
    "id": "BB6o1LIatT8R"
   },
   "source": [
    "##### **Analyse and report the best and worst performing class**"
   ]
  },
  {
   "cell_type": "markdown",
   "metadata": {
    "id": "c6HuoiPXtcD8"
   },
   "source": [
    "\n",
    "\n",
    "*   The **best** performing class here is the **'positive'**\n",
    "*   The **worst** performing class here is the **'negative'**\n",
    "\n"
   ]
  },
  {
   "cell_type": "code",
   "execution_count": null,
   "metadata": {
    "id": "O5GJ_XEktQyd"
   },
   "outputs": [],
   "source": []
  },
  {
   "cell_type": "markdown",
   "metadata": {
    "id": "NiSddIYPjOps"
   },
   "source": [
    "***b. Print the two most incorrectly classified texts for each class in the test dataset.***"
   ]
  },
  {
   "cell_type": "code",
   "execution_count": null,
   "metadata": {
    "id": "dgOfj7RQHT9c"
   },
   "outputs": [],
   "source": [
    "predictions = dnnModel.predict(test_data, verbose=0)"
   ]
  },
  {
   "cell_type": "code",
   "execution_count": null,
   "metadata": {
    "colab": {
     "base_uri": "https://localhost:8080/"
    },
    "executionInfo": {
     "elapsed": 2796,
     "status": "ok",
     "timestamp": 1621768751064,
     "user": {
      "displayName": "RAJESH MOHITE",
      "photoUrl": "https://lh3.googleusercontent.com/a-/AOh14GghQ7aHgWWkg3GMHNJPMIlppFcUNcIzFuL4mowiwQ=s64",
      "userId": "00055132426721799422"
     },
     "user_tz": -330
    },
    "id": "B0UBpPFnpZHC",
    "outputId": "2a1a6d5f-1395-4cc2-fa9d-8acb415abbc0"
   },
   "outputs": [
    {
     "name": "stdout",
     "output_type": "stream",
     "text": [
      "\n",
      "Most incorrectly classified texts from test dataset with their accuracy are:\n",
      "('my favourite police series of all time turns to a tv film does it work yes gee runs for mayor and gets shot the homicide hall of fame turns up and nearly all of the cops who ever played in this series a lot of flashbacks helps you who seen the tv series but it the fans too the last five minutes another murder and at the very end even two of the dead cops turn up and a short appearance from my favourite cox this is a good film', array([0.48786372], dtype=float32))\n",
      "('in bollywood nowadays it has no or and has given the a human story here no one country is depicted as good or bad there are evil indians evil and good indians and the cinematography is excellent and the music is meaningful thanks to and haunting everything about the movie was amazing and the acting just took my breath away all were perfectly cast br br if you are interested in watching an intellectual and genuinely wonderful movie look no further this movie gives it all i recommend it with all my heart amazing cannot describe how excellent it is', array([0.48983452], dtype=float32))\n"
     ]
    }
   ],
   "source": [
    "# Combining the test data (in textual format) along with the predicted values\n",
    "testData_text = tokenizer.sequences_to_texts(test_data)\n",
    "testData_text\n",
    "dictionary_TestData_PredictedValue = {}\n",
    "for index in range(len(test_data)):\n",
    "  dictionary_TestData_PredictedValue[testData_text[index]] = predictions[index]\n",
    "\n",
    "#Worst two text with the predicted values\n",
    "sortedData = sorted(dictionary_TestData_PredictedValue.items(), key=operator.itemgetter(1))\n",
    "\n",
    "print(\"\\nMost incorrectly classified texts from test dataset with their accuracy are:\")\n",
    "\n",
    "print(sortedData[0])\n",
    "print(sortedData[1])"
   ]
  },
  {
   "cell_type": "code",
   "execution_count": null,
   "metadata": {
    "id": "bStsSnidswpn"
   },
   "outputs": [],
   "source": []
  },
  {
   "cell_type": "markdown",
   "metadata": {
    "id": "jECrxJ6lHUGV"
   },
   "source": [
    "#### **Hyperparameter Tuning**"
   ]
  },
  {
   "cell_type": "markdown",
   "metadata": {
    "id": "VGtX2jOzHcbd"
   },
   "source": [
    "**Use a different optimizer with the appropriate LR value**"
   ]
  },
  {
   "cell_type": "markdown",
   "metadata": {
    "id": "TUGcgXVOHKKQ"
   },
   "source": [
    "###### *Changing the Model Optimizer to `rmsprop` instead of `adam`*"
   ]
  },
  {
   "cell_type": "code",
   "execution_count": null,
   "metadata": {
    "colab": {
     "base_uri": "https://localhost:8080/"
    },
    "executionInfo": {
     "elapsed": 30,
     "status": "ok",
     "timestamp": 1621768751068,
     "user": {
      "displayName": "RAJESH MOHITE",
      "photoUrl": "https://lh3.googleusercontent.com/a-/AOh14GghQ7aHgWWkg3GMHNJPMIlppFcUNcIzFuL4mowiwQ=s64",
      "userId": "00055132426721799422"
     },
     "user_tz": -330
    },
    "id": "ujIS5JYoHYzh",
    "outputId": "ed99b6d0-c019-47c2-d7a0-ef3912dd04b2"
   },
   "outputs": [
    {
     "name": "stdout",
     "output_type": "stream",
     "text": [
      "Model: \"sequential_1\"\n",
      "_________________________________________________________________\n",
      "Layer (type)                 Output Shape              Param #   \n",
      "=================================================================\n",
      "dense_5 (Dense)              (None, 64)                6464      \n",
      "_________________________________________________________________\n",
      "dropout_1 (Dropout)          (None, 64)                0         \n",
      "_________________________________________________________________\n",
      "dense_6 (Dense)              (None, 64)                4160      \n",
      "_________________________________________________________________\n",
      "dense_7 (Dense)              (None, 32)                2080      \n",
      "_________________________________________________________________\n",
      "dense_8 (Dense)              (None, 16)                528       \n",
      "_________________________________________________________________\n",
      "dense_9 (Dense)              (None, 1)                 17        \n",
      "=================================================================\n",
      "Total params: 13,249\n",
      "Trainable params: 13,249\n",
      "Non-trainable params: 0\n",
      "_________________________________________________________________\n"
     ]
    }
   ],
   "source": [
    "dnnModelOptimizer = models.Sequential()\n",
    "\n",
    "dnnModelOptimizer.add(layers.Dense(64, activation='relu', input_shape=(100,)))\n",
    "\n",
    "# Add dropout of 50% to layer 1\n",
    "dnnModelOptimizer.add(layers.Dropout(0.5))\n",
    "\n",
    "# Layer 3 = hidden layer \n",
    "dnnModelOptimizer.add(layers.Dense(64, activation='relu', kernel_regularizer=regularizers.l2(0.01)) )\n",
    "\n",
    "# Layer 4 = hidden layer \n",
    "dnnModelOptimizer.add(layers.Dense(32, activation='relu', kernel_regularizer=regularizers.l2(0.01)) )\n",
    "\n",
    "# Layer 5 = hidden layer \n",
    "dnnModelOptimizer.add(layers.Dense(16, activation='relu', kernel_regularizer=regularizers.l2(0.01)) )\n",
    "\n",
    "# Layer 6 = output layer\n",
    "dnnModelOptimizer.add(layers.Dense(1, activation='sigmoid'))\n",
    "\n",
    "#Changing the Model Optimizer to `rmsprop` instead of `adam`\n",
    "dnnModelOptimizer.compile(optimizer='rmsprop',\n",
    "              loss=tf.losses.BinaryCrossentropy(from_logits=True),\n",
    "              metrics=['accuracy'])\n",
    "\n",
    "dnnModelOptimizer.summary()"
   ]
  },
  {
   "cell_type": "code",
   "execution_count": null,
   "metadata": {
    "colab": {
     "base_uri": "https://localhost:8080/"
    },
    "executionInfo": {
     "elapsed": 10403,
     "status": "ok",
     "timestamp": 1621768761446,
     "user": {
      "displayName": "RAJESH MOHITE",
      "photoUrl": "https://lh3.googleusercontent.com/a-/AOh14GghQ7aHgWWkg3GMHNJPMIlppFcUNcIzFuL4mowiwQ=s64",
      "userId": "00055132426721799422"
     },
     "user_tz": -330
    },
    "id": "sAl07I-JH-Vb",
    "outputId": "38a5cb73-376e-45b1-8db1-faadca75b3c5"
   },
   "outputs": [
    {
     "name": "stdout",
     "output_type": "stream",
     "text": [
      "Epoch 1/10\n",
      "1250/1250 [==============================] - 4s 3ms/step - loss: 32.6426 - accuracy: 0.5038 - val_loss: 0.7697 - val_accuracy: 0.5035\n",
      "Epoch 2/10\n",
      "1250/1250 [==============================] - 3s 3ms/step - loss: 0.7340 - accuracy: 0.5012 - val_loss: 0.6971 - val_accuracy: 0.5035\n",
      "Epoch 3/10\n",
      "1250/1250 [==============================] - 3s 3ms/step - loss: 0.6953 - accuracy: 0.4968 - val_loss: 0.6932 - val_accuracy: 0.4964\n",
      "Restoring model weights from the end of the best epoch.\n",
      "Epoch 00003: early stopping\n"
     ]
    }
   ],
   "source": [
    "call_back = [tf.keras.callbacks.EarlyStopping(monitor=\"val_accuracy\",patience=2,\n",
    "verbose=1,restore_best_weights=True)]\n",
    "\n",
    "historyOptimizer = dnnModelOptimizer.fit(train_data, train_label, epochs=10, batch_size=32,\n",
    "          validation_data = (test_data,test_label),\n",
    "          callbacks=call_back)"
   ]
  },
  {
   "cell_type": "code",
   "execution_count": null,
   "metadata": {
    "colab": {
     "base_uri": "https://localhost:8080/"
    },
    "executionInfo": {
     "elapsed": 38,
     "status": "ok",
     "timestamp": 1621768761447,
     "user": {
      "displayName": "RAJESH MOHITE",
      "photoUrl": "https://lh3.googleusercontent.com/a-/AOh14GghQ7aHgWWkg3GMHNJPMIlppFcUNcIzFuL4mowiwQ=s64",
      "userId": "00055132426721799422"
     },
     "user_tz": -330
    },
    "id": "x7OTU0IkIRAs",
    "outputId": "c7dbd5e0-20ac-47e2-ed96-b528a86598e2"
   },
   "outputs": [
    {
     "name": "stdout",
     "output_type": "stream",
     "text": [
      "Final training accuracy  0.49597498774528503\n",
      "Final training loss \t 0.694042444229126\n"
     ]
    }
   ],
   "source": [
    "print('Final training accuracy ', historyOptimizer.history['accuracy'][-1])\n",
    "print('Final training loss \\t', historyOptimizer.history['loss'][-1])"
   ]
  },
  {
   "cell_type": "markdown",
   "metadata": {
    "id": "LawJRyhwHe9L"
   },
   "source": [
    "**Change the value of batch size in model training**"
   ]
  },
  {
   "cell_type": "markdown",
   "metadata": {
    "id": "tBDmbfJZHv_S"
   },
   "source": [
    "##### *Changing the batch size to `64` instead of `32`*"
   ]
  },
  {
   "cell_type": "code",
   "execution_count": null,
   "metadata": {
    "colab": {
     "base_uri": "https://localhost:8080/"
    },
    "executionInfo": {
     "elapsed": 28,
     "status": "ok",
     "timestamp": 1621768761448,
     "user": {
      "displayName": "RAJESH MOHITE",
      "photoUrl": "https://lh3.googleusercontent.com/a-/AOh14GghQ7aHgWWkg3GMHNJPMIlppFcUNcIzFuL4mowiwQ=s64",
      "userId": "00055132426721799422"
     },
     "user_tz": -330
    },
    "id": "MPFVHdmXHjOQ",
    "outputId": "0648a703-23a7-4684-8cf1-89903a680f0b"
   },
   "outputs": [
    {
     "name": "stdout",
     "output_type": "stream",
     "text": [
      "Model: \"sequential_2\"\n",
      "_________________________________________________________________\n",
      "Layer (type)                 Output Shape              Param #   \n",
      "=================================================================\n",
      "dense_10 (Dense)             (None, 64)                6464      \n",
      "_________________________________________________________________\n",
      "dropout_2 (Dropout)          (None, 64)                0         \n",
      "_________________________________________________________________\n",
      "dense_11 (Dense)             (None, 64)                4160      \n",
      "_________________________________________________________________\n",
      "dense_12 (Dense)             (None, 32)                2080      \n",
      "_________________________________________________________________\n",
      "dense_13 (Dense)             (None, 16)                528       \n",
      "_________________________________________________________________\n",
      "dense_14 (Dense)             (None, 1)                 17        \n",
      "=================================================================\n",
      "Total params: 13,249\n",
      "Trainable params: 13,249\n",
      "Non-trainable params: 0\n",
      "_________________________________________________________________\n"
     ]
    }
   ],
   "source": [
    "dnnModelBatchSize = models.Sequential()\n",
    "\n",
    "dnnModelBatchSize.add(layers.Dense(64, activation='relu', input_shape=(100,)))\n",
    "\n",
    "# Add dropout of 50% to layer 1\n",
    "dnnModelBatchSize.add(layers.Dropout(0.5))\n",
    "\n",
    "# Layer 3 = hidden layer \n",
    "dnnModelBatchSize.add(layers.Dense(64, activation='relu', kernel_regularizer=regularizers.l2(0.01)) )\n",
    "\n",
    "# Layer 4 = hidden layer \n",
    "dnnModelBatchSize.add(layers.Dense(32, activation='relu', kernel_regularizer=regularizers.l2(0.01)) )\n",
    "\n",
    "# Layer 5 = hidden layer \n",
    "dnnModelBatchSize.add(layers.Dense(16, activation='relu', kernel_regularizer=regularizers.l2(0.01)) )\n",
    "\n",
    "# Layer 6 = output layer\n",
    "dnnModelBatchSize.add(layers.Dense(1, activation='sigmoid'))\n",
    "\n",
    "dnnModelBatchSize.compile(optimizer='adam',\n",
    "              loss=tf.losses.BinaryCrossentropy(from_logits=True),\n",
    "              metrics=['accuracy'])\n",
    "\n",
    "dnnModelBatchSize.summary()"
   ]
  },
  {
   "cell_type": "code",
   "execution_count": null,
   "metadata": {
    "colab": {
     "base_uri": "https://localhost:8080/"
    },
    "executionInfo": {
     "elapsed": 7819,
     "status": "ok",
     "timestamp": 1621768769243,
     "user": {
      "displayName": "RAJESH MOHITE",
      "photoUrl": "https://lh3.googleusercontent.com/a-/AOh14GghQ7aHgWWkg3GMHNJPMIlppFcUNcIzFuL4mowiwQ=s64",
      "userId": "00055132426721799422"
     },
     "user_tz": -330
    },
    "id": "Qk873NBZI2MH",
    "outputId": "95b8f69c-8c2d-49e9-fe57-e3f0a807f41f"
   },
   "outputs": [
    {
     "name": "stdout",
     "output_type": "stream",
     "text": [
      "Epoch 1/10\n",
      "625/625 [==============================] - 2s 3ms/step - loss: 32.8615 - accuracy: 0.4950 - val_loss: 1.9358 - val_accuracy: 0.5009\n",
      "Epoch 2/10\n",
      "625/625 [==============================] - 1s 2ms/step - loss: 1.9594 - accuracy: 0.4961 - val_loss: 1.8899 - val_accuracy: 0.4933\n",
      "Epoch 3/10\n",
      "625/625 [==============================] - 1s 2ms/step - loss: 1.8831 - accuracy: 0.5033 - val_loss: 1.8240 - val_accuracy: 0.5015\n",
      "Epoch 4/10\n",
      "625/625 [==============================] - 1s 2ms/step - loss: 1.8074 - accuracy: 0.5037 - val_loss: 1.7454 - val_accuracy: 0.4977\n",
      "Epoch 5/10\n",
      "625/625 [==============================] - 1s 2ms/step - loss: 1.7249 - accuracy: 0.4948 - val_loss: 1.6520 - val_accuracy: 0.4964\n",
      "Restoring model weights from the end of the best epoch.\n",
      "Epoch 00005: early stopping\n"
     ]
    }
   ],
   "source": [
    "call_back = [tf.keras.callbacks.EarlyStopping(monitor=\"val_accuracy\",patience=2,\n",
    "verbose=1,restore_best_weights=True)]\n",
    "\n",
    "#Changing the batch size to `64` instead of `32`\n",
    "historyBatchSize = dnnModelBatchSize.fit(train_data, train_label, epochs=10, batch_size=64,\n",
    "          validation_data = (test_data,test_label),\n",
    "          callbacks=call_back)"
   ]
  },
  {
   "cell_type": "code",
   "execution_count": null,
   "metadata": {
    "colab": {
     "base_uri": "https://localhost:8080/"
    },
    "executionInfo": {
     "elapsed": 31,
     "status": "ok",
     "timestamp": 1621768769244,
     "user": {
      "displayName": "RAJESH MOHITE",
      "photoUrl": "https://lh3.googleusercontent.com/a-/AOh14GghQ7aHgWWkg3GMHNJPMIlppFcUNcIzFuL4mowiwQ=s64",
      "userId": "00055132426721799422"
     },
     "user_tz": -330
    },
    "id": "f4TLWi_7JK4D",
    "outputId": "ebf9a059-7ff8-4a0a-d018-e281acaa9351"
   },
   "outputs": [
    {
     "name": "stdout",
     "output_type": "stream",
     "text": [
      "Final training accuracy  0.4988499879837036\n",
      "Final training loss \t 1.7014904022216797\n"
     ]
    }
   ],
   "source": [
    "print('Final training accuracy ', historyBatchSize.history['accuracy'][-1])\n",
    "print('Final training loss \\t', historyBatchSize.history['loss'][-1])"
   ]
  },
  {
   "cell_type": "markdown",
   "metadata": {
    "id": "ORB16fBMIJhY"
   },
   "source": [
    "### **Comparison of Model Results:**"
   ]
  },
  {
   "cell_type": "markdown",
   "metadata": {
    "id": "nfFJDnd9JRYL"
   },
   "source": [
    "**Basic Model (dnnModel) Vs Model with Change in Optimizer (dnnModelOptimizer)**\n",
    "\n",
    "For dnnModel :\\\n",
    "Training Accuracy : 50.37 %  \\\n",
    "Loss : 1.7090449333190918 \n",
    "\n",
    "For dnnModelOptimizer :\\\n",
    "Training Accuracy 50.02 % \\\n",
    "Loss : 0.6936866044998169\n",
    "\n",
    "**Observations:** \\\n",
    "*Observed accuracy for both model doesn't having much difference but the model (dnnModelOptimizer) with change in the optimizer as `'rmsprop'` reducing the loss to 0.69 from 1.7. \\\n",
    "Thus we can say dnnModelOptimizer performing better comapred to dnnMoel.*"
   ]
  },
  {
   "cell_type": "markdown",
   "metadata": {
    "id": "ymfhtv-aIEB_"
   },
   "source": [
    "\n",
    "**Basic Model (dnnModel) Vs Model with Change in Batch Size (dnnModelBatchSize)**\n",
    "\n",
    "For dnnModel :\\\n",
    "Training Accuracy : 50.37 %  \\\n",
    "Loss : 1.7090449333190918 \n",
    "\n",
    "For dnnModelChangeInBatchSize :\\\n",
    "Training Accuracy 50.61 % \\\n",
    "Loss : 1.8377496004104614\n",
    "\n",
    "**Observations:** \\\n",
    "*Observed accuracy for both model doesn't having much difference but the model (dnnModelBatchSize) with change in batch size increases the loss to 1.83 from 1.70. \\\n",
    "Thus we can say dnnModelBatchSize not performing better compared to dnnMoel.*"
   ]
  },
  {
   "cell_type": "markdown",
   "metadata": {
    "id": "cdV0VLtetlIQ"
   },
   "source": [
    "##### ***Final Observation***\n",
    "\n",
    "*From above all the 3 models we observed that the Accuracy of each model is ~50%, but the with respect to loss value dnnModelOptimizer model with change in the optimizer as `'rmsprop'` performs better than dnnModel with optimizer `adam`*\n",
    "\n"
   ]
  },
  {
   "cell_type": "code",
   "execution_count": null,
   "metadata": {
    "id": "KWtRr7I1-aUY"
   },
   "outputs": [],
   "source": []
  }
 ],
 "metadata": {
  "accelerator": "GPU",
  "colab": {
   "collapsed_sections": [],
   "name": "Group_125_Assignment_5_Question_2_NLP_Dataset.ipynb",
   "provenance": []
  },
  "kernelspec": {
   "display_name": "Python 3",
   "language": "python",
   "name": "python3"
  },
  "language_info": {
   "codemirror_mode": {
    "name": "ipython",
    "version": 3
   },
   "file_extension": ".py",
   "mimetype": "text/x-python",
   "name": "python",
   "nbconvert_exporter": "python",
   "pygments_lexer": "ipython3",
   "version": "3.7.6"
  }
 },
 "nbformat": 4,
 "nbformat_minor": 1
}
