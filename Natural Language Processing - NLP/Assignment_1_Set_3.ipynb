{
 "cells": [
  {
   "cell_type": "markdown",
   "metadata": {
    "id": "X3-Zzjy86Pt_"
   },
   "source": [
    "# **NLP - Assignment 1 (Set 3 - News Headlines dataset for Sarcasm Detection)**"
   ]
  },
  {
   "cell_type": "markdown",
   "metadata": {
    "id": "Cexos3mq6dOZ"
   },
   "source": [
    "### **1. Import Libraries**"
   ]
  },
  {
   "cell_type": "code",
   "execution_count": 1,
   "metadata": {
    "colab": {
     "base_uri": "https://localhost:8080/"
    },
    "id": "f9K8fJ8c6qvu",
    "outputId": "f48a4036-82dc-4ce7-c268-c6109b4d85f0"
   },
   "outputs": [
    {
     "name": "stdout",
     "output_type": "stream",
     "text": [
      "[nltk_data] Downloading package wordnet to /root/nltk_data...\n",
      "[nltk_data]   Package wordnet is already up-to-date!\n",
      "[nltk_data] Downloading package punkt to /root/nltk_data...\n",
      "[nltk_data]   Package punkt is already up-to-date!\n",
      "[nltk_data] Downloading package averaged_perceptron_tagger to\n",
      "[nltk_data]     /root/nltk_data...\n",
      "[nltk_data]   Package averaged_perceptron_tagger is already up-to-\n",
      "[nltk_data]       date!\n",
      "[nltk_data] Downloading package tagsets to /root/nltk_data...\n",
      "[nltk_data]   Package tagsets is already up-to-date!\n",
      "[nltk_data] Downloading package maxent_ne_chunker to\n",
      "[nltk_data]     /root/nltk_data...\n",
      "[nltk_data]   Package maxent_ne_chunker is already up-to-date!\n",
      "[nltk_data] Downloading package words to /root/nltk_data...\n",
      "[nltk_data]   Package words is already up-to-date!\n",
      "[nltk_data] Downloading package treebank to /root/nltk_data...\n",
      "[nltk_data]   Package treebank is already up-to-date!\n"
     ]
    },
    {
     "data": {
      "text/plain": [
       "True"
      ]
     },
     "execution_count": 1,
     "metadata": {
      "tags": []
     },
     "output_type": "execute_result"
    }
   ],
   "source": [
    "import pandas as pd\n",
    "import numpy as np\n",
    "from google.colab import drive\n",
    "from sklearn.feature_extraction import text\n",
    "from sklearn.feature_extraction.text import CountVectorizer\n",
    "from sklearn.model_selection import train_test_split\n",
    "from sklearn.naive_bayes import MultinomialNB\n",
    "from sklearn.metrics import accuracy_score\n",
    "from sklearn.metrics import classification_report\n",
    "from sklearn.metrics import f1_score\n",
    "from sklearn.metrics import roc_auc_score\n",
    "from sklearn.metrics import confusion_matrix\n",
    "import tensorflow as tf\n",
    "import matplotlib.pyplot as plt\n",
    "import seaborn as sns\n",
    "import nltk\n",
    "nltk.download('wordnet')\n",
    "nltk.download('punkt')\n",
    "nltk.download('averaged_perceptron_tagger') \n",
    "nltk.download('tagsets')\n",
    "nltk.download('maxent_ne_chunker')\n",
    "nltk.download('words')\n",
    "nltk.download('treebank')"
   ]
  },
  {
   "cell_type": "markdown",
   "metadata": {
    "id": "-o7ILwTE6jZG"
   },
   "source": [
    "### **2. Import Dataset**"
   ]
  },
  {
   "cell_type": "code",
   "execution_count": 2,
   "metadata": {
    "colab": {
     "base_uri": "https://localhost:8080/"
    },
    "id": "no5jipTj_e6D",
    "outputId": "c4d66f34-6914-4ced-c551-79b3f1474a86"
   },
   "outputs": [
    {
     "name": "stdout",
     "output_type": "stream",
     "text": [
      "Drive already mounted at /content/drive; to attempt to forcibly remount, call drive.mount(\"/content/drive\", force_remount=True).\n"
     ]
    }
   ],
   "source": [
    "drive.mount('/content/drive')"
   ]
  },
  {
   "cell_type": "code",
   "execution_count": 3,
   "metadata": {
    "colab": {
     "base_uri": "https://localhost:8080/"
    },
    "id": "c7kJT94d_oEh",
    "outputId": "5e117c70-9b03-45ae-f975-2a5050c8923b"
   },
   "outputs": [
    {
     "name": "stdout",
     "output_type": "stream",
     "text": [
      "/content/drive/My Drive/Colab Notebooks/NLP\n"
     ]
    }
   ],
   "source": [
    "%cd /content/drive/My Drive/Colab Notebooks/NLP/\n"
   ]
  },
  {
   "cell_type": "code",
   "execution_count": 4,
   "metadata": {
    "id": "q55-9Unl6Vuz"
   },
   "outputs": [],
   "source": [
    "sarcasm = pd.read_json('Sarcasm_Headlines_Dataset_v2.json', lines=True)"
   ]
  },
  {
   "cell_type": "code",
   "execution_count": 5,
   "metadata": {
    "colab": {
     "base_uri": "https://localhost:8080/",
     "height": 669
    },
    "id": "jFJOzihf8kwk",
    "outputId": "152d52e2-1af5-4a85-e46d-32d073cea56a"
   },
   "outputs": [
    {
     "data": {
      "text/html": [
       "<div>\n",
       "<style scoped>\n",
       "    .dataframe tbody tr th:only-of-type {\n",
       "        vertical-align: middle;\n",
       "    }\n",
       "\n",
       "    .dataframe tbody tr th {\n",
       "        vertical-align: top;\n",
       "    }\n",
       "\n",
       "    .dataframe thead th {\n",
       "        text-align: right;\n",
       "    }\n",
       "</style>\n",
       "<table border=\"1\" class=\"dataframe\">\n",
       "  <thead>\n",
       "    <tr style=\"text-align: right;\">\n",
       "      <th></th>\n",
       "      <th>is_sarcastic</th>\n",
       "      <th>headline</th>\n",
       "      <th>article_link</th>\n",
       "    </tr>\n",
       "  </thead>\n",
       "  <tbody>\n",
       "    <tr>\n",
       "      <th>0</th>\n",
       "      <td>1</td>\n",
       "      <td>thirtysomething scientists unveil doomsday clo...</td>\n",
       "      <td>https://www.theonion.com/thirtysomething-scien...</td>\n",
       "    </tr>\n",
       "    <tr>\n",
       "      <th>1</th>\n",
       "      <td>0</td>\n",
       "      <td>dem rep. totally nails why congress is falling...</td>\n",
       "      <td>https://www.huffingtonpost.com/entry/donna-edw...</td>\n",
       "    </tr>\n",
       "    <tr>\n",
       "      <th>2</th>\n",
       "      <td>0</td>\n",
       "      <td>eat your veggies: 9 deliciously different recipes</td>\n",
       "      <td>https://www.huffingtonpost.com/entry/eat-your-...</td>\n",
       "    </tr>\n",
       "    <tr>\n",
       "      <th>3</th>\n",
       "      <td>1</td>\n",
       "      <td>inclement weather prevents liar from getting t...</td>\n",
       "      <td>https://local.theonion.com/inclement-weather-p...</td>\n",
       "    </tr>\n",
       "    <tr>\n",
       "      <th>4</th>\n",
       "      <td>1</td>\n",
       "      <td>mother comes pretty close to using word 'strea...</td>\n",
       "      <td>https://www.theonion.com/mother-comes-pretty-c...</td>\n",
       "    </tr>\n",
       "    <tr>\n",
       "      <th>5</th>\n",
       "      <td>0</td>\n",
       "      <td>my white inheritance</td>\n",
       "      <td>https://www.huffingtonpost.com/entry/my-white-...</td>\n",
       "    </tr>\n",
       "    <tr>\n",
       "      <th>6</th>\n",
       "      <td>0</td>\n",
       "      <td>5 ways to file your taxes with less stress</td>\n",
       "      <td>https://www.huffingtonpost.com/entry/5-ways-to...</td>\n",
       "    </tr>\n",
       "    <tr>\n",
       "      <th>7</th>\n",
       "      <td>1</td>\n",
       "      <td>richard branson's global-warming donation near...</td>\n",
       "      <td>https://www.theonion.com/richard-bransons-glob...</td>\n",
       "    </tr>\n",
       "    <tr>\n",
       "      <th>8</th>\n",
       "      <td>1</td>\n",
       "      <td>shadow government getting too large to meet in...</td>\n",
       "      <td>https://politics.theonion.com/shadow-governmen...</td>\n",
       "    </tr>\n",
       "    <tr>\n",
       "      <th>9</th>\n",
       "      <td>0</td>\n",
       "      <td>lots of parents know this scenario</td>\n",
       "      <td>https://www.huffingtonpost.comhttp://pubx.co/6...</td>\n",
       "    </tr>\n",
       "    <tr>\n",
       "      <th>10</th>\n",
       "      <td>0</td>\n",
       "      <td>this lesbian is considered a father in indiana...</td>\n",
       "      <td>https://www.huffingtonpost.com/entry/this-lesb...</td>\n",
       "    </tr>\n",
       "    <tr>\n",
       "      <th>11</th>\n",
       "      <td>0</td>\n",
       "      <td>amanda peet told her daughter sex is 'a specia...</td>\n",
       "      <td>https://www.huffingtonpost.com/entry/amanda-pe...</td>\n",
       "    </tr>\n",
       "    <tr>\n",
       "      <th>12</th>\n",
       "      <td>0</td>\n",
       "      <td>what to know regarding current treatments for ...</td>\n",
       "      <td>https://www.huffingtonpost.com/entry/what-to-k...</td>\n",
       "    </tr>\n",
       "    <tr>\n",
       "      <th>13</th>\n",
       "      <td>0</td>\n",
       "      <td>chris christie suggests hillary clinton was to...</td>\n",
       "      <td>https://www.huffingtonpost.com/entry/chris-chr...</td>\n",
       "    </tr>\n",
       "    <tr>\n",
       "      <th>14</th>\n",
       "      <td>1</td>\n",
       "      <td>ford develops new suv that runs purely on gaso...</td>\n",
       "      <td>https://www.theonion.com/ford-develops-new-suv...</td>\n",
       "    </tr>\n",
       "    <tr>\n",
       "      <th>15</th>\n",
       "      <td>0</td>\n",
       "      <td>uber ceo travis kalanick stepping down from tr...</td>\n",
       "      <td>https://www.huffingtonpost.com/entry/uber-ceo-...</td>\n",
       "    </tr>\n",
       "    <tr>\n",
       "      <th>16</th>\n",
       "      <td>1</td>\n",
       "      <td>area boy enters jumping-and-touching-tops-of-d...</td>\n",
       "      <td>https://www.theonion.com/area-boy-enters-jumpi...</td>\n",
       "    </tr>\n",
       "    <tr>\n",
       "      <th>17</th>\n",
       "      <td>1</td>\n",
       "      <td>area man does most of his traveling by gurney</td>\n",
       "      <td>https://local.theonion.com/area-man-does-most-...</td>\n",
       "    </tr>\n",
       "    <tr>\n",
       "      <th>18</th>\n",
       "      <td>0</td>\n",
       "      <td>leave no person with disabilities behind</td>\n",
       "      <td>https://www.huffingtonpost.com/entry/leave-no-...</td>\n",
       "    </tr>\n",
       "    <tr>\n",
       "      <th>19</th>\n",
       "      <td>0</td>\n",
       "      <td>lin-manuel miranda would like to remind you to...</td>\n",
       "      <td>https://www.huffingtonpost.com/entry/lin-manue...</td>\n",
       "    </tr>\n",
       "  </tbody>\n",
       "</table>\n",
       "</div>"
      ],
      "text/plain": [
       "    is_sarcastic  ...                                       article_link\n",
       "0              1  ...  https://www.theonion.com/thirtysomething-scien...\n",
       "1              0  ...  https://www.huffingtonpost.com/entry/donna-edw...\n",
       "2              0  ...  https://www.huffingtonpost.com/entry/eat-your-...\n",
       "3              1  ...  https://local.theonion.com/inclement-weather-p...\n",
       "4              1  ...  https://www.theonion.com/mother-comes-pretty-c...\n",
       "5              0  ...  https://www.huffingtonpost.com/entry/my-white-...\n",
       "6              0  ...  https://www.huffingtonpost.com/entry/5-ways-to...\n",
       "7              1  ...  https://www.theonion.com/richard-bransons-glob...\n",
       "8              1  ...  https://politics.theonion.com/shadow-governmen...\n",
       "9              0  ...  https://www.huffingtonpost.comhttp://pubx.co/6...\n",
       "10             0  ...  https://www.huffingtonpost.com/entry/this-lesb...\n",
       "11             0  ...  https://www.huffingtonpost.com/entry/amanda-pe...\n",
       "12             0  ...  https://www.huffingtonpost.com/entry/what-to-k...\n",
       "13             0  ...  https://www.huffingtonpost.com/entry/chris-chr...\n",
       "14             1  ...  https://www.theonion.com/ford-develops-new-suv...\n",
       "15             0  ...  https://www.huffingtonpost.com/entry/uber-ceo-...\n",
       "16             1  ...  https://www.theonion.com/area-boy-enters-jumpi...\n",
       "17             1  ...  https://local.theonion.com/area-man-does-most-...\n",
       "18             0  ...  https://www.huffingtonpost.com/entry/leave-no-...\n",
       "19             0  ...  https://www.huffingtonpost.com/entry/lin-manue...\n",
       "\n",
       "[20 rows x 3 columns]"
      ]
     },
     "execution_count": 5,
     "metadata": {
      "tags": []
     },
     "output_type": "execute_result"
    }
   ],
   "source": [
    "sarcasm.head(20)"
   ]
  },
  {
   "cell_type": "code",
   "execution_count": 6,
   "metadata": {
    "colab": {
     "base_uri": "https://localhost:8080/"
    },
    "id": "C58SBxmI_L3z",
    "outputId": "64e8807e-6282-4b51-ce99-245a70b248b2"
   },
   "outputs": [
    {
     "name": "stdout",
     "output_type": "stream",
     "text": [
      "<class 'pandas.core.frame.DataFrame'>\n",
      "RangeIndex: 28619 entries, 0 to 28618\n",
      "Data columns (total 3 columns):\n",
      " #   Column        Non-Null Count  Dtype \n",
      "---  ------        --------------  ----- \n",
      " 0   is_sarcastic  28619 non-null  int64 \n",
      " 1   headline      28619 non-null  object\n",
      " 2   article_link  28619 non-null  object\n",
      "dtypes: int64(1), object(2)\n",
      "memory usage: 670.9+ KB\n"
     ]
    }
   ],
   "source": [
    "sarcasm.info()"
   ]
  },
  {
   "cell_type": "code",
   "execution_count": 7,
   "metadata": {
    "colab": {
     "base_uri": "https://localhost:8080/",
     "height": 297
    },
    "id": "ON_-VsXKBocH",
    "outputId": "8a717bd6-fe24-4cf8-e5f1-473d385e08a5"
   },
   "outputs": [
    {
     "data": {
      "text/html": [
       "<div>\n",
       "<style scoped>\n",
       "    .dataframe tbody tr th:only-of-type {\n",
       "        vertical-align: middle;\n",
       "    }\n",
       "\n",
       "    .dataframe tbody tr th {\n",
       "        vertical-align: top;\n",
       "    }\n",
       "\n",
       "    .dataframe thead th {\n",
       "        text-align: right;\n",
       "    }\n",
       "</style>\n",
       "<table border=\"1\" class=\"dataframe\">\n",
       "  <thead>\n",
       "    <tr style=\"text-align: right;\">\n",
       "      <th></th>\n",
       "      <th>is_sarcastic</th>\n",
       "    </tr>\n",
       "  </thead>\n",
       "  <tbody>\n",
       "    <tr>\n",
       "      <th>count</th>\n",
       "      <td>28619.000000</td>\n",
       "    </tr>\n",
       "    <tr>\n",
       "      <th>mean</th>\n",
       "      <td>0.476397</td>\n",
       "    </tr>\n",
       "    <tr>\n",
       "      <th>std</th>\n",
       "      <td>0.499451</td>\n",
       "    </tr>\n",
       "    <tr>\n",
       "      <th>min</th>\n",
       "      <td>0.000000</td>\n",
       "    </tr>\n",
       "    <tr>\n",
       "      <th>25%</th>\n",
       "      <td>0.000000</td>\n",
       "    </tr>\n",
       "    <tr>\n",
       "      <th>50%</th>\n",
       "      <td>0.000000</td>\n",
       "    </tr>\n",
       "    <tr>\n",
       "      <th>75%</th>\n",
       "      <td>1.000000</td>\n",
       "    </tr>\n",
       "    <tr>\n",
       "      <th>max</th>\n",
       "      <td>1.000000</td>\n",
       "    </tr>\n",
       "  </tbody>\n",
       "</table>\n",
       "</div>"
      ],
      "text/plain": [
       "       is_sarcastic\n",
       "count  28619.000000\n",
       "mean       0.476397\n",
       "std        0.499451\n",
       "min        0.000000\n",
       "25%        0.000000\n",
       "50%        0.000000\n",
       "75%        1.000000\n",
       "max        1.000000"
      ]
     },
     "execution_count": 7,
     "metadata": {
      "tags": []
     },
     "output_type": "execute_result"
    }
   ],
   "source": [
    "sarcasm.describe()"
   ]
  },
  {
   "cell_type": "code",
   "execution_count": 7,
   "metadata": {
    "id": "BvqUzICEDzUF"
   },
   "outputs": [],
   "source": []
  },
  {
   "cell_type": "markdown",
   "metadata": {
    "id": "HS2B_hX3GeYD"
   },
   "source": [
    "#### ***Removing punctuations from headline column***"
   ]
  },
  {
   "cell_type": "code",
   "execution_count": 8,
   "metadata": {
    "colab": {
     "base_uri": "https://localhost:8080/",
     "height": 669
    },
    "id": "TziwwoBRGdQB",
    "outputId": "6ddf77ad-b515-4101-d70b-6188f1ee7017"
   },
   "outputs": [
    {
     "data": {
      "text/html": [
       "<div>\n",
       "<style scoped>\n",
       "    .dataframe tbody tr th:only-of-type {\n",
       "        vertical-align: middle;\n",
       "    }\n",
       "\n",
       "    .dataframe tbody tr th {\n",
       "        vertical-align: top;\n",
       "    }\n",
       "\n",
       "    .dataframe thead th {\n",
       "        text-align: right;\n",
       "    }\n",
       "</style>\n",
       "<table border=\"1\" class=\"dataframe\">\n",
       "  <thead>\n",
       "    <tr style=\"text-align: right;\">\n",
       "      <th></th>\n",
       "      <th>is_sarcastic</th>\n",
       "      <th>headline</th>\n",
       "      <th>article_link</th>\n",
       "    </tr>\n",
       "  </thead>\n",
       "  <tbody>\n",
       "    <tr>\n",
       "      <th>0</th>\n",
       "      <td>1</td>\n",
       "      <td>thirtysomething scientists unveil doomsday clo...</td>\n",
       "      <td>https://www.theonion.com/thirtysomething-scien...</td>\n",
       "    </tr>\n",
       "    <tr>\n",
       "      <th>1</th>\n",
       "      <td>0</td>\n",
       "      <td>dem rep totally nails why congress is falling ...</td>\n",
       "      <td>https://www.huffingtonpost.com/entry/donna-edw...</td>\n",
       "    </tr>\n",
       "    <tr>\n",
       "      <th>2</th>\n",
       "      <td>0</td>\n",
       "      <td>eat your veggies 9 deliciously different recipes</td>\n",
       "      <td>https://www.huffingtonpost.com/entry/eat-your-...</td>\n",
       "    </tr>\n",
       "    <tr>\n",
       "      <th>3</th>\n",
       "      <td>1</td>\n",
       "      <td>inclement weather prevents liar from getting t...</td>\n",
       "      <td>https://local.theonion.com/inclement-weather-p...</td>\n",
       "    </tr>\n",
       "    <tr>\n",
       "      <th>4</th>\n",
       "      <td>1</td>\n",
       "      <td>mother comes pretty close to using word stream...</td>\n",
       "      <td>https://www.theonion.com/mother-comes-pretty-c...</td>\n",
       "    </tr>\n",
       "    <tr>\n",
       "      <th>5</th>\n",
       "      <td>0</td>\n",
       "      <td>my white inheritance</td>\n",
       "      <td>https://www.huffingtonpost.com/entry/my-white-...</td>\n",
       "    </tr>\n",
       "    <tr>\n",
       "      <th>6</th>\n",
       "      <td>0</td>\n",
       "      <td>5 ways to file your taxes with less stress</td>\n",
       "      <td>https://www.huffingtonpost.com/entry/5-ways-to...</td>\n",
       "    </tr>\n",
       "    <tr>\n",
       "      <th>7</th>\n",
       "      <td>1</td>\n",
       "      <td>richard bransons globalwarming donation nearly...</td>\n",
       "      <td>https://www.theonion.com/richard-bransons-glob...</td>\n",
       "    </tr>\n",
       "    <tr>\n",
       "      <th>8</th>\n",
       "      <td>1</td>\n",
       "      <td>shadow government getting too large to meet in...</td>\n",
       "      <td>https://politics.theonion.com/shadow-governmen...</td>\n",
       "    </tr>\n",
       "    <tr>\n",
       "      <th>9</th>\n",
       "      <td>0</td>\n",
       "      <td>lots of parents know this scenario</td>\n",
       "      <td>https://www.huffingtonpost.comhttp://pubx.co/6...</td>\n",
       "    </tr>\n",
       "    <tr>\n",
       "      <th>10</th>\n",
       "      <td>0</td>\n",
       "      <td>this lesbian is considered a father in indiana...</td>\n",
       "      <td>https://www.huffingtonpost.com/entry/this-lesb...</td>\n",
       "    </tr>\n",
       "    <tr>\n",
       "      <th>11</th>\n",
       "      <td>0</td>\n",
       "      <td>amanda peet told her daughter sex is a special...</td>\n",
       "      <td>https://www.huffingtonpost.com/entry/amanda-pe...</td>\n",
       "    </tr>\n",
       "    <tr>\n",
       "      <th>12</th>\n",
       "      <td>0</td>\n",
       "      <td>what to know regarding current treatments for ...</td>\n",
       "      <td>https://www.huffingtonpost.com/entry/what-to-k...</td>\n",
       "    </tr>\n",
       "    <tr>\n",
       "      <th>13</th>\n",
       "      <td>0</td>\n",
       "      <td>chris christie suggests hillary clinton was to...</td>\n",
       "      <td>https://www.huffingtonpost.com/entry/chris-chr...</td>\n",
       "    </tr>\n",
       "    <tr>\n",
       "      <th>14</th>\n",
       "      <td>1</td>\n",
       "      <td>ford develops new suv that runs purely on gaso...</td>\n",
       "      <td>https://www.theonion.com/ford-develops-new-suv...</td>\n",
       "    </tr>\n",
       "    <tr>\n",
       "      <th>15</th>\n",
       "      <td>0</td>\n",
       "      <td>uber ceo travis kalanick stepping down from tr...</td>\n",
       "      <td>https://www.huffingtonpost.com/entry/uber-ceo-...</td>\n",
       "    </tr>\n",
       "    <tr>\n",
       "      <th>16</th>\n",
       "      <td>1</td>\n",
       "      <td>area boy enters jumpingandtouchingtopsofdoorwa...</td>\n",
       "      <td>https://www.theonion.com/area-boy-enters-jumpi...</td>\n",
       "    </tr>\n",
       "    <tr>\n",
       "      <th>17</th>\n",
       "      <td>1</td>\n",
       "      <td>area man does most of his traveling by gurney</td>\n",
       "      <td>https://local.theonion.com/area-man-does-most-...</td>\n",
       "    </tr>\n",
       "    <tr>\n",
       "      <th>18</th>\n",
       "      <td>0</td>\n",
       "      <td>leave no person with disabilities behind</td>\n",
       "      <td>https://www.huffingtonpost.com/entry/leave-no-...</td>\n",
       "    </tr>\n",
       "    <tr>\n",
       "      <th>19</th>\n",
       "      <td>0</td>\n",
       "      <td>linmanuel miranda would like to remind you to ...</td>\n",
       "      <td>https://www.huffingtonpost.com/entry/lin-manue...</td>\n",
       "    </tr>\n",
       "  </tbody>\n",
       "</table>\n",
       "</div>"
      ],
      "text/plain": [
       "    is_sarcastic  ...                                       article_link\n",
       "0              1  ...  https://www.theonion.com/thirtysomething-scien...\n",
       "1              0  ...  https://www.huffingtonpost.com/entry/donna-edw...\n",
       "2              0  ...  https://www.huffingtonpost.com/entry/eat-your-...\n",
       "3              1  ...  https://local.theonion.com/inclement-weather-p...\n",
       "4              1  ...  https://www.theonion.com/mother-comes-pretty-c...\n",
       "5              0  ...  https://www.huffingtonpost.com/entry/my-white-...\n",
       "6              0  ...  https://www.huffingtonpost.com/entry/5-ways-to...\n",
       "7              1  ...  https://www.theonion.com/richard-bransons-glob...\n",
       "8              1  ...  https://politics.theonion.com/shadow-governmen...\n",
       "9              0  ...  https://www.huffingtonpost.comhttp://pubx.co/6...\n",
       "10             0  ...  https://www.huffingtonpost.com/entry/this-lesb...\n",
       "11             0  ...  https://www.huffingtonpost.com/entry/amanda-pe...\n",
       "12             0  ...  https://www.huffingtonpost.com/entry/what-to-k...\n",
       "13             0  ...  https://www.huffingtonpost.com/entry/chris-chr...\n",
       "14             1  ...  https://www.theonion.com/ford-develops-new-suv...\n",
       "15             0  ...  https://www.huffingtonpost.com/entry/uber-ceo-...\n",
       "16             1  ...  https://www.theonion.com/area-boy-enters-jumpi...\n",
       "17             1  ...  https://local.theonion.com/area-man-does-most-...\n",
       "18             0  ...  https://www.huffingtonpost.com/entry/leave-no-...\n",
       "19             0  ...  https://www.huffingtonpost.com/entry/lin-manue...\n",
       "\n",
       "[20 rows x 3 columns]"
      ]
     },
     "execution_count": 8,
     "metadata": {
      "tags": []
     },
     "output_type": "execute_result"
    }
   ],
   "source": [
    "# https://www.pythondaddy.com/python/how-to-remove-punctuation-from-a-dataframe-in-pandas-and-python/\n",
    "sarcasm[\"headline\"] = sarcasm['headline'].str.replace('[^\\w\\s]','')\n",
    "sarcasm.head(20)"
   ]
  },
  {
   "cell_type": "code",
   "execution_count": 8,
   "metadata": {
    "id": "VlzYHIk8F1sz"
   },
   "outputs": [],
   "source": []
  },
  {
   "cell_type": "markdown",
   "metadata": {
    "id": "uz_9Ya0QHFRv"
   },
   "source": [
    "#### ***Removing stopwords from the text in 'headline' column***"
   ]
  },
  {
   "cell_type": "code",
   "execution_count": 9,
   "metadata": {
    "id": "IU3OLhR3HNTQ"
   },
   "outputs": [],
   "source": [
    "# Import stopwords with scikit-learn\n",
    "stop = text.ENGLISH_STOP_WORDS"
   ]
  },
  {
   "cell_type": "code",
   "execution_count": 10,
   "metadata": {
    "colab": {
     "base_uri": "https://localhost:8080/",
     "height": 669
    },
    "id": "jvLVadt7JcIn",
    "outputId": "7c870ebc-61e4-48c8-8632-8a7bd546a32b"
   },
   "outputs": [
    {
     "data": {
      "text/html": [
       "<div>\n",
       "<style scoped>\n",
       "    .dataframe tbody tr th:only-of-type {\n",
       "        vertical-align: middle;\n",
       "    }\n",
       "\n",
       "    .dataframe tbody tr th {\n",
       "        vertical-align: top;\n",
       "    }\n",
       "\n",
       "    .dataframe thead th {\n",
       "        text-align: right;\n",
       "    }\n",
       "</style>\n",
       "<table border=\"1\" class=\"dataframe\">\n",
       "  <thead>\n",
       "    <tr style=\"text-align: right;\">\n",
       "      <th></th>\n",
       "      <th>is_sarcastic</th>\n",
       "      <th>headline</th>\n",
       "      <th>article_link</th>\n",
       "    </tr>\n",
       "  </thead>\n",
       "  <tbody>\n",
       "    <tr>\n",
       "      <th>0</th>\n",
       "      <td>1</td>\n",
       "      <td>thirtysomething scientists unveil doomsday clo...</td>\n",
       "      <td>https://www.theonion.com/thirtysomething-scien...</td>\n",
       "    </tr>\n",
       "    <tr>\n",
       "      <th>1</th>\n",
       "      <td>0</td>\n",
       "      <td>dem rep totally nails congress falling short g...</td>\n",
       "      <td>https://www.huffingtonpost.com/entry/donna-edw...</td>\n",
       "    </tr>\n",
       "    <tr>\n",
       "      <th>2</th>\n",
       "      <td>0</td>\n",
       "      <td>eat veggies 9 deliciously different recipes</td>\n",
       "      <td>https://www.huffingtonpost.com/entry/eat-your-...</td>\n",
       "    </tr>\n",
       "    <tr>\n",
       "      <th>3</th>\n",
       "      <td>1</td>\n",
       "      <td>inclement weather prevents liar getting work</td>\n",
       "      <td>https://local.theonion.com/inclement-weather-p...</td>\n",
       "    </tr>\n",
       "    <tr>\n",
       "      <th>4</th>\n",
       "      <td>1</td>\n",
       "      <td>mother comes pretty close using word streaming...</td>\n",
       "      <td>https://www.theonion.com/mother-comes-pretty-c...</td>\n",
       "    </tr>\n",
       "    <tr>\n",
       "      <th>5</th>\n",
       "      <td>0</td>\n",
       "      <td>white inheritance</td>\n",
       "      <td>https://www.huffingtonpost.com/entry/my-white-...</td>\n",
       "    </tr>\n",
       "    <tr>\n",
       "      <th>6</th>\n",
       "      <td>0</td>\n",
       "      <td>5 ways file taxes stress</td>\n",
       "      <td>https://www.huffingtonpost.com/entry/5-ways-to...</td>\n",
       "    </tr>\n",
       "    <tr>\n",
       "      <th>7</th>\n",
       "      <td>1</td>\n",
       "      <td>richard bransons globalwarming donation nearly...</td>\n",
       "      <td>https://www.theonion.com/richard-bransons-glob...</td>\n",
       "    </tr>\n",
       "    <tr>\n",
       "      <th>8</th>\n",
       "      <td>1</td>\n",
       "      <td>shadow government getting large meet marriott ...</td>\n",
       "      <td>https://politics.theonion.com/shadow-governmen...</td>\n",
       "    </tr>\n",
       "    <tr>\n",
       "      <th>9</th>\n",
       "      <td>0</td>\n",
       "      <td>lots parents know scenario</td>\n",
       "      <td>https://www.huffingtonpost.comhttp://pubx.co/6...</td>\n",
       "    </tr>\n",
       "    <tr>\n",
       "      <th>10</th>\n",
       "      <td>0</td>\n",
       "      <td>lesbian considered father indiana amazing</td>\n",
       "      <td>https://www.huffingtonpost.com/entry/this-lesb...</td>\n",
       "    </tr>\n",
       "    <tr>\n",
       "      <th>11</th>\n",
       "      <td>0</td>\n",
       "      <td>amanda peet told daughter sex special hug</td>\n",
       "      <td>https://www.huffingtonpost.com/entry/amanda-pe...</td>\n",
       "    </tr>\n",
       "    <tr>\n",
       "      <th>12</th>\n",
       "      <td>0</td>\n",
       "      <td>know regarding current treatments ebola</td>\n",
       "      <td>https://www.huffingtonpost.com/entry/what-to-k...</td>\n",
       "    </tr>\n",
       "    <tr>\n",
       "      <th>13</th>\n",
       "      <td>0</td>\n",
       "      <td>chris christie suggests hillary clinton blame ...</td>\n",
       "      <td>https://www.huffingtonpost.com/entry/chris-chr...</td>\n",
       "    </tr>\n",
       "    <tr>\n",
       "      <th>14</th>\n",
       "      <td>1</td>\n",
       "      <td>ford develops new suv runs purely gasoline</td>\n",
       "      <td>https://www.theonion.com/ford-develops-new-suv...</td>\n",
       "    </tr>\n",
       "    <tr>\n",
       "      <th>15</th>\n",
       "      <td>0</td>\n",
       "      <td>uber ceo travis kalanick stepping trump econom...</td>\n",
       "      <td>https://www.huffingtonpost.com/entry/uber-ceo-...</td>\n",
       "    </tr>\n",
       "    <tr>\n",
       "      <th>16</th>\n",
       "      <td>1</td>\n",
       "      <td>area boy enters jumpingandtouchingtopsofdoorwa...</td>\n",
       "      <td>https://www.theonion.com/area-boy-enters-jumpi...</td>\n",
       "    </tr>\n",
       "    <tr>\n",
       "      <th>17</th>\n",
       "      <td>1</td>\n",
       "      <td>area man does traveling gurney</td>\n",
       "      <td>https://local.theonion.com/area-man-does-most-...</td>\n",
       "    </tr>\n",
       "    <tr>\n",
       "      <th>18</th>\n",
       "      <td>0</td>\n",
       "      <td>leave person disabilities</td>\n",
       "      <td>https://www.huffingtonpost.com/entry/leave-no-...</td>\n",
       "    </tr>\n",
       "    <tr>\n",
       "      <th>19</th>\n",
       "      <td>0</td>\n",
       "      <td>linmanuel miranda like remind phone away</td>\n",
       "      <td>https://www.huffingtonpost.com/entry/lin-manue...</td>\n",
       "    </tr>\n",
       "  </tbody>\n",
       "</table>\n",
       "</div>"
      ],
      "text/plain": [
       "    is_sarcastic  ...                                       article_link\n",
       "0              1  ...  https://www.theonion.com/thirtysomething-scien...\n",
       "1              0  ...  https://www.huffingtonpost.com/entry/donna-edw...\n",
       "2              0  ...  https://www.huffingtonpost.com/entry/eat-your-...\n",
       "3              1  ...  https://local.theonion.com/inclement-weather-p...\n",
       "4              1  ...  https://www.theonion.com/mother-comes-pretty-c...\n",
       "5              0  ...  https://www.huffingtonpost.com/entry/my-white-...\n",
       "6              0  ...  https://www.huffingtonpost.com/entry/5-ways-to...\n",
       "7              1  ...  https://www.theonion.com/richard-bransons-glob...\n",
       "8              1  ...  https://politics.theonion.com/shadow-governmen...\n",
       "9              0  ...  https://www.huffingtonpost.comhttp://pubx.co/6...\n",
       "10             0  ...  https://www.huffingtonpost.com/entry/this-lesb...\n",
       "11             0  ...  https://www.huffingtonpost.com/entry/amanda-pe...\n",
       "12             0  ...  https://www.huffingtonpost.com/entry/what-to-k...\n",
       "13             0  ...  https://www.huffingtonpost.com/entry/chris-chr...\n",
       "14             1  ...  https://www.theonion.com/ford-develops-new-suv...\n",
       "15             0  ...  https://www.huffingtonpost.com/entry/uber-ceo-...\n",
       "16             1  ...  https://www.theonion.com/area-boy-enters-jumpi...\n",
       "17             1  ...  https://local.theonion.com/area-man-does-most-...\n",
       "18             0  ...  https://www.huffingtonpost.com/entry/leave-no-...\n",
       "19             0  ...  https://www.huffingtonpost.com/entry/lin-manue...\n",
       "\n",
       "[20 rows x 3 columns]"
      ]
     },
     "execution_count": 10,
     "metadata": {
      "tags": []
     },
     "output_type": "execute_result"
    }
   ],
   "source": [
    "# https://stackoverflow.com/questions/29523254/python-remove-stop-words-from-pandas-dataframe\n",
    "# Exclude stopwords with Python's list comprehension and pandas.DataFrame.apply.\n",
    "sarcasm['headline'] = sarcasm['headline'].apply(lambda x: ' '.join([word for word in x.split() if word not in (stop)]))\n",
    "sarcasm.head(20)"
   ]
  },
  {
   "cell_type": "code",
   "execution_count": 10,
   "metadata": {
    "id": "PFOueKfieW4J"
   },
   "outputs": [],
   "source": []
  },
  {
   "cell_type": "markdown",
   "metadata": {
    "id": "KlQICG7Gjo2C"
   },
   "source": [
    "### Create a CountVectorizer object and split the data into training and testing sets. "
   ]
  },
  {
   "cell_type": "markdown",
   "metadata": {
    "id": "u3WPHpbu0DCe"
   },
   "source": [
    "**Tokenizing text -** \\\n",
    "Text preprocessing, tokenizing and filtering of stopwords are all included in CountVectorizer, which builds a dictionary of features and transforms documents to feature vectors."
   ]
  },
  {
   "cell_type": "markdown",
   "metadata": {
    "id": "6jmA38VD1viP"
   },
   "source": [
    "**Create a Bag of Words -** \\\n",
    "Next we’ll create a Bag of Words. We simply instantiate CountVectorizer() and use fit_transform() on the `headline` column, and then use NumPy to convert the resulting Bag of Words (or BOW) to an array, so it can be used by the model."
   ]
  },
  {
   "cell_type": "code",
   "execution_count": 11,
   "metadata": {
    "id": "boUlCjgaj-WY"
   },
   "outputs": [],
   "source": [
    "# Extracting features from text or `headlines`\n",
    "count_vec = CountVectorizer()\n",
    "bagOfWords = count_vec.fit_transform(sarcasm['headline'])\n",
    "array_bagOfWords = bagOfWords.toarray()"
   ]
  },
  {
   "cell_type": "code",
   "execution_count": 12,
   "metadata": {
    "colab": {
     "base_uri": "https://localhost:8080/"
    },
    "id": "uwUwh25YHtEb",
    "outputId": "c13ca2ae-0ceb-4136-e209-b452b3865aea"
   },
   "outputs": [
    {
     "data": {
      "text/plain": [
       "28619"
      ]
     },
     "execution_count": 12,
     "metadata": {
      "tags": []
     },
     "output_type": "execute_result"
    }
   ],
   "source": [
    "len(array_bagOfWords)"
   ]
  },
  {
   "cell_type": "code",
   "execution_count": 13,
   "metadata": {
    "colab": {
     "base_uri": "https://localhost:8080/"
    },
    "id": "G7Ash5AyITkl",
    "outputId": "2838f139-1d28-4e56-e7ae-b6fa20fd01e2"
   },
   "outputs": [
    {
     "data": {
      "text/plain": [
       "(28619, 29324)"
      ]
     },
     "execution_count": 13,
     "metadata": {
      "tags": []
     },
     "output_type": "execute_result"
    }
   ],
   "source": [
    "bagOfWords.shape"
   ]
  },
  {
   "cell_type": "code",
   "execution_count": 14,
   "metadata": {
    "colab": {
     "base_uri": "https://localhost:8080/"
    },
    "id": "77xNAb66Ig91",
    "outputId": "a7dd3136-2a27-460e-c545-03b73d1e790b"
   },
   "outputs": [
    {
     "data": {
      "text/plain": [
       "(28619, 29324)"
      ]
     },
     "execution_count": 14,
     "metadata": {
      "tags": []
     },
     "output_type": "execute_result"
    }
   ],
   "source": [
    "from sklearn.feature_extraction.text import TfidfTransformer\n",
    "tfidf_transformer = TfidfTransformer()\n",
    "X_train_tfidf = tfidf_transformer.fit_transform(bagOfWords)\n",
    "X_train_tfidf.shape"
   ]
  },
  {
   "cell_type": "markdown",
   "metadata": {
    "id": "BOHcOsNl2uDf"
   },
   "source": [
    "**Split the data -** \\\n",
    "Next we’ll pass the bow Bag of Words to X to use as our features set, then define is_sarcastic as our target variable. We’ll use a stratified split to put equal proportions of the positive class in the training and test sets and will define the test size as 20% of the total data."
   ]
  },
  {
   "cell_type": "markdown",
   "metadata": {
    "id": "1kx7B8uH25er"
   },
   "source": [
    "Create two objects X and y. X will be the 'headline' column of sarcasm dataframe and y will be the 'is_sarcastic' column. "
   ]
  },
  {
   "cell_type": "code",
   "execution_count": 15,
   "metadata": {
    "id": "-evT8q112-Ij"
   },
   "outputs": [],
   "source": [
    "#Segregating Bag Of words obtained after CountVectorization of `headline` & `is_sarcastic` columns from the dataset\n",
    "X = bagOfWords  #--> More accuracy as compared to tfidf\n",
    "y = sarcasm['is_sarcastic']"
   ]
  },
  {
   "cell_type": "markdown",
   "metadata": {
    "id": "iUJHJ6AofyOU"
   },
   "source": [
    "Note:- **We have tested accuracy of the model by using TF-IDF Transformer after CountVectorizer (with TFIDF Transformer approx - 78.5%), but it was decreasing the accuracy score (since without Tf-IDF it is approx 80%), thereby we are proceeding only with `CountVectorizer`**"
   ]
  },
  {
   "cell_type": "code",
   "execution_count": 16,
   "metadata": {
    "id": "4xK6fqxC4SFh"
   },
   "outputs": [],
   "source": [
    "X_train, X_test, y_train, y_test = train_test_split(X, y, \n",
    "                                                    test_size=0.2, \n",
    "                                                    stratify=y)"
   ]
  },
  {
   "cell_type": "code",
   "execution_count": 17,
   "metadata": {
    "colab": {
     "base_uri": "https://localhost:8080/"
    },
    "id": "upP-kk4b4lOH",
    "outputId": "b9699f5a-b495-4992-ea35-07c34af7c09a"
   },
   "outputs": [
    {
     "name": "stdout",
     "output_type": "stream",
     "text": [
      "Training data size -  (22895, 29324)\n",
      "Test data size -  (5724, 29324)\n"
     ]
    }
   ],
   "source": [
    "print(\"Training data size - \", X_train.shape)\n",
    "\n",
    "print(\"Test data size - \", X_test.shape)"
   ]
  },
  {
   "cell_type": "markdown",
   "metadata": {
    "id": "hcU5ffhnj_On"
   },
   "source": [
    "**Fit the model** \\\n",
    "There are various models we can use for this, but Multinomial Naive Bayes is typically one of the best on data of this type. We’ll fit the MultinomialNB() model to the training data and then generate some predictions on the unseen test data."
   ]
  },
  {
   "cell_type": "code",
   "execution_count": 18,
   "metadata": {
    "id": "JoK7gd9MkBqT"
   },
   "outputs": [],
   "source": [
    "model = MultinomialNB().fit(X_train, y_train)\n",
    "y_pred = model.predict(X_test)"
   ]
  },
  {
   "cell_type": "markdown",
   "metadata": {
    "id": "9VOqpI0j4qzl"
   },
   "source": [
    "**Evaluate model performance -** \\\n",
    "We can assess the performance of the model by examining how well it did on the test data. For this we can use accuracy score, F1 score, and the ROC/AUC score.\\\n",
    "Results are pretty good for a simple model. Turns out we can detect sarcasm (or satire), despite no previous context."
   ]
  },
  {
   "cell_type": "code",
   "execution_count": 19,
   "metadata": {
    "colab": {
     "base_uri": "https://localhost:8080/"
    },
    "id": "69TYMHWr44vh",
    "outputId": "1372123e-e078-49f4-cc42-88cf5821aec8"
   },
   "outputs": [
    {
     "name": "stdout",
     "output_type": "stream",
     "text": [
      "Accuracy: 0.810796645702306\n",
      "F1 score: 0.8100577916406875\n",
      "ROC AUC: 0.8096561908443096\n"
     ]
    }
   ],
   "source": [
    "print('Accuracy:', accuracy_score(y_test, y_pred))\n",
    "print('F1 score:', f1_score(y_test, y_pred, average=\"macro\"))\n",
    "print('ROC AUC:', roc_auc_score(y_test, y_pred))"
   ]
  },
  {
   "cell_type": "code",
   "execution_count": 20,
   "metadata": {
    "colab": {
     "base_uri": "https://localhost:8080/"
    },
    "id": "TgjI3XhR5ALR",
    "outputId": "bddc9c41-2909-428a-d437-67175aef59c0"
   },
   "outputs": [
    {
     "name": "stdout",
     "output_type": "stream",
     "text": [
      "              precision    recall  f1-score   support\n",
      "\n",
      "           0       0.81      0.83      0.82      2997\n",
      "           1       0.81      0.79      0.80      2727\n",
      "\n",
      "    accuracy                           0.81      5724\n",
      "   macro avg       0.81      0.81      0.81      5724\n",
      "weighted avg       0.81      0.81      0.81      5724\n",
      "\n"
     ]
    }
   ],
   "source": [
    "print(classification_report(y_test, y_pred))"
   ]
  },
  {
   "cell_type": "markdown",
   "metadata": {
    "id": "bqUXpn6NkCXS"
   },
   "source": [
    "### Display the confusion Matrix."
   ]
  },
  {
   "cell_type": "code",
   "execution_count": 21,
   "metadata": {
    "colab": {
     "base_uri": "https://localhost:8080/"
    },
    "id": "RWtcsdOEkDHV",
    "outputId": "bff76648-6dca-4838-d930-820e3604e1e8"
   },
   "outputs": [
    {
     "data": {
      "text/plain": [
       "array([[2499,  498],\n",
       "       [ 585, 2142]])"
      ]
     },
     "execution_count": 21,
     "metadata": {
      "tags": []
     },
     "output_type": "execute_result"
    }
   ],
   "source": [
    "confusion_matrix(y_test, y_pred)"
   ]
  },
  {
   "cell_type": "code",
   "execution_count": 22,
   "metadata": {
    "colab": {
     "base_uri": "https://localhost:8080/",
     "height": 383
    },
    "id": "MFB2wqsmUbXt",
    "outputId": "493eae73-db3d-4ed5-8eb2-f31a717503af"
   },
   "outputs": [
    {
     "data": {
      "image/png": "[encoded data removed]",
      "text/plain": [
       "<Figure size 360x360 with 2 Axes>"
      ]
     },
     "metadata": {
      "needs_background": "light",
      "tags": []
     },
     "output_type": "display_data"
    }
   ],
   "source": [
    "classes=[\"sarcasm\",\"not_sarcasm\"]\n",
    "con_mat = tf.math.confusion_matrix(labels= y_test, predictions=y_pred).numpy()\n",
    "\n",
    "con_mat_norm = np.around(con_mat.astype('float') / con_mat.sum(axis=1)[:, np.newaxis], decimals=2)\n",
    "\n",
    "con_mat_df = pd.DataFrame(con_mat_norm,\n",
    "                     index = classes, \n",
    "                     columns = classes)\n",
    "\n",
    "figure = plt.figure(figsize=(5, 5))\n",
    "sns.heatmap(con_mat_df, annot=True,cmap=plt.cm.Blues)\n",
    "plt.tight_layout()\n",
    "plt.ylabel('True label')\n",
    "plt.xlabel('Predicted label')\n",
    "plt.show()"
   ]
  },
  {
   "cell_type": "code",
   "execution_count": 22,
   "metadata": {
    "id": "DvEhbb_LcLoc"
   },
   "outputs": [],
   "source": []
  },
  {
   "cell_type": "markdown",
   "metadata": {
    "id": "AbQIAbTOgz7Q"
   },
   "source": [
    "## Display the HMM POS tagging on the first 4 rows of ‘headline’"
   ]
  },
  {
   "cell_type": "code",
   "execution_count": 23,
   "metadata": {
    "id": "DtvGhr46g2DN"
   },
   "outputs": [],
   "source": [
    "array_headlines = sarcasm['headline']"
   ]
  },
  {
   "cell_type": "code",
   "execution_count": 24,
   "metadata": {
    "id": "AC4KH1p0lfM0"
   },
   "outputs": [],
   "source": [
    "# Pick first 4 sentences from the corpus\n",
    "start_sentences = array_headlines[:4]"
   ]
  },
  {
   "cell_type": "markdown",
   "metadata": {
    "id": "GTOprYOzpINE"
   },
   "source": [
    " **Tokenize by sentence, then by lowercase word**"
   ]
  },
  {
   "cell_type": "code",
   "execution_count": 25,
   "metadata": {
    "id": "XIOqUhUquLTD"
   },
   "outputs": [],
   "source": [
    "#Capturing special characters to print the output in bold \n",
    "start = \"\\033[1m\"\n",
    "end = \"\\033[0;0m\""
   ]
  },
  {
   "cell_type": "code",
   "execution_count": 26,
   "metadata": {
    "colab": {
     "base_uri": "https://localhost:8080/"
    },
    "id": "YKE15xu5lr1x",
    "outputId": "ee489ef3-b02a-4ea4-da19-edab4c72aa17"
   },
   "outputs": [
    {
     "name": "stdout",
     "output_type": "stream",
     "text": [
      "\u001b[1mTokens of sentence  1 \u001b[0;0m\n",
      "['thirtysomething', 'scientists', 'unveil', 'doomsday', 'clock', 'hair', 'loss']\n",
      "\u001b[1mTagging of sentence  1  is - \u001b[0;0m\n",
      "[('thirtysomething', 'VBG'), ('scientists', 'NNS'), ('unveil', 'JJ'), ('doomsday', 'JJ'), ('clock', 'NN'), ('hair', 'NN'), ('loss', 'NN')]\n",
      "\u001b[1mIdentifying named entities of sentence  1 - \u001b[0;0m\n",
      "(S\n",
      "  thirtysomething/VBG\n",
      "  scientists/NNS\n",
      "  unveil/JJ\n",
      "  doomsday/JJ\n",
      "  clock/NN\n",
      "  hair/NN\n",
      "  loss/NN)\n",
      "\n",
      "\n",
      "\n",
      "\u001b[1mTokens of sentence  2 \u001b[0;0m\n",
      "['dem', 'rep', 'totally', 'nails', 'congress', 'falling', 'short', 'gender', 'racial', 'equality']\n",
      "\u001b[1mTagging of sentence  2  is - \u001b[0;0m\n",
      "[('dem', 'NN'), ('rep', 'NN'), ('totally', 'RB'), ('nails', 'JJ'), ('congress', 'NN'), ('falling', 'VBG'), ('short', 'JJ'), ('gender', 'NN'), ('racial', 'JJ'), ('equality', 'NN')]\n",
      "\u001b[1mIdentifying named entities of sentence  2 - \u001b[0;0m\n",
      "(S\n",
      "  dem/NN\n",
      "  rep/NN\n",
      "  totally/RB\n",
      "  nails/JJ\n",
      "  congress/NN\n",
      "  falling/VBG\n",
      "  short/JJ\n",
      "  gender/NN\n",
      "  racial/JJ\n",
      "  equality/NN)\n",
      "\n",
      "\n",
      "\n",
      "\u001b[1mTokens of sentence  3 \u001b[0;0m\n",
      "['eat', 'veggies', '9', 'deliciously', 'different', 'recipes']\n",
      "\u001b[1mTagging of sentence  3  is - \u001b[0;0m\n",
      "[('eat', 'NN'), ('veggies', 'NNS'), ('9', 'CD'), ('deliciously', 'RB'), ('different', 'JJ'), ('recipes', 'NNS')]\n",
      "\u001b[1mIdentifying named entities of sentence  3 - \u001b[0;0m\n",
      "(S eat/NN veggies/NNS 9/CD deliciously/RB different/JJ recipes/NNS)\n",
      "\n",
      "\n",
      "\n",
      "\u001b[1mTokens of sentence  4 \u001b[0;0m\n",
      "['inclement', 'weather', 'prevents', 'liar', 'getting', 'work']\n",
      "\u001b[1mTagging of sentence  4  is - \u001b[0;0m\n",
      "[('inclement', 'NN'), ('weather', 'NN'), ('prevents', 'NNS'), ('liar', 'VBP'), ('getting', 'VBG'), ('work', 'NN')]\n",
      "\u001b[1mIdentifying named entities of sentence  4 - \u001b[0;0m\n",
      "(S inclement/NN weather/NN prevents/NNS liar/VBP getting/VBG work/NN)\n",
      "\n",
      "\n",
      "\n"
     ]
    }
   ],
   "source": [
    "for i,text in enumerate(start_sentences):\n",
    "    # Tokenize by sentence, then by lowercase word\n",
    "    tokens = [word.lower() for sent in nltk.sent_tokenize(text) for word in nltk.word_tokenize(sent)]\n",
    "    print(start + \"Tokens of sentence \", i+1, end)\n",
    "    print(tokens)\n",
    "    # print(\"\\n\")\n",
    "    tagged = nltk.pos_tag(tokens)\n",
    "    print(start + \"Tagging of sentence \", i+1, \" is -\", end)\n",
    "    print(tagged)\n",
    "    entities = nltk.chunk.ne_chunk(tagged)\n",
    "    print(start + \"Identifying named entities of sentence \", i+1, \"-\", end)\n",
    "    print(entities)\n",
    "    print(\"\\n\\n\")"
   ]
  },
  {
   "cell_type": "markdown",
   "metadata": {
    "id": "MoYFXnIeq9hY"
   },
   "source": [
    "**Note:- To refer any tag in the above classified words please refer to below help tagset info from `nltk`**"
   ]
  },
  {
   "cell_type": "code",
   "execution_count": 27,
   "metadata": {
    "colab": {
     "base_uri": "https://localhost:8080/"
    },
    "id": "iWeNJQe_oGxm",
    "outputId": "8294e3d9-b597-42c8-a0ce-a4b4c955094c"
   },
   "outputs": [
    {
     "name": "stdout",
     "output_type": "stream",
     "text": [
      "$: dollar\n",
      "    $ -$ --$ A$ C$ HK$ M$ NZ$ S$ U.S.$ US$\n",
      "'': closing quotation mark\n",
      "    ' ''\n",
      "(: opening parenthesis\n",
      "    ( [ {\n",
      "): closing parenthesis\n",
      "    ) ] }\n",
      ",: comma\n",
      "    ,\n",
      "--: dash\n",
      "    --\n",
      ".: sentence terminator\n",
      "    . ! ?\n",
      ":: colon or ellipsis\n",
      "    : ; ...\n",
      "CC: conjunction, coordinating\n",
      "    & 'n and both but either et for less minus neither nor or plus so\n",
      "    therefore times v. versus vs. whether yet\n",
      "CD: numeral, cardinal\n",
      "    mid-1890 nine-thirty forty-two one-tenth ten million 0.5 one forty-\n",
      "    seven 1987 twenty '79 zero two 78-degrees eighty-four IX '60s .025\n",
      "    fifteen 271,124 dozen quintillion DM2,000 ...\n",
      "DT: determiner\n",
      "    all an another any both del each either every half la many much nary\n",
      "    neither no some such that the them these this those\n",
      "EX: existential there\n",
      "    there\n",
      "FW: foreign word\n",
      "    gemeinschaft hund ich jeux habeas Haementeria Herr K'ang-si vous\n",
      "    lutihaw alai je jour objets salutaris fille quibusdam pas trop Monte\n",
      "    terram fiche oui corporis ...\n",
      "IN: preposition or conjunction, subordinating\n",
      "    astride among uppon whether out inside pro despite on by throughout\n",
      "    below within for towards near behind atop around if like until below\n",
      "    next into if beside ...\n",
      "JJ: adjective or numeral, ordinal\n",
      "    third ill-mannered pre-war regrettable oiled calamitous first separable\n",
      "    ectoplasmic battery-powered participatory fourth still-to-be-named\n",
      "    multilingual multi-disciplinary ...\n",
      "JJR: adjective, comparative\n",
      "    bleaker braver breezier briefer brighter brisker broader bumper busier\n",
      "    calmer cheaper choosier cleaner clearer closer colder commoner costlier\n",
      "    cozier creamier crunchier cuter ...\n",
      "JJS: adjective, superlative\n",
      "    calmest cheapest choicest classiest cleanest clearest closest commonest\n",
      "    corniest costliest crassest creepiest crudest cutest darkest deadliest\n",
      "    dearest deepest densest dinkiest ...\n",
      "LS: list item marker\n",
      "    A A. B B. C C. D E F First G H I J K One SP-44001 SP-44002 SP-44005\n",
      "    SP-44007 Second Third Three Two * a b c d first five four one six three\n",
      "    two\n",
      "MD: modal auxiliary\n",
      "    can cannot could couldn't dare may might must need ought shall should\n",
      "    shouldn't will would\n",
      "NN: noun, common, singular or mass\n",
      "    common-carrier cabbage knuckle-duster Casino afghan shed thermostat\n",
      "    investment slide humour falloff slick wind hyena override subhumanity\n",
      "    machinist ...\n",
      "NNP: noun, proper, singular\n",
      "    Motown Venneboerger Czestochwa Ranzer Conchita Trumplane Christos\n",
      "    Oceanside Escobar Kreisler Sawyer Cougar Yvette Ervin ODI Darryl CTCA\n",
      "    Shannon A.K.C. Meltex Liverpool ...\n",
      "NNPS: noun, proper, plural\n",
      "    Americans Americas Amharas Amityvilles Amusements Anarcho-Syndicalists\n",
      "    Andalusians Andes Andruses Angels Animals Anthony Antilles Antiques\n",
      "    Apache Apaches Apocrypha ...\n",
      "NNS: noun, common, plural\n",
      "    undergraduates scotches bric-a-brac products bodyguards facets coasts\n",
      "    divestitures storehouses designs clubs fragrances averages\n",
      "    subjectivists apprehensions muses factory-jobs ...\n",
      "PDT: pre-determiner\n",
      "    all both half many quite such sure this\n",
      "POS: genitive marker\n",
      "    ' 's\n",
      "PRP: pronoun, personal\n",
      "    hers herself him himself hisself it itself me myself one oneself ours\n",
      "    ourselves ownself self she thee theirs them themselves they thou thy us\n",
      "PRP$: pronoun, possessive\n",
      "    her his mine my our ours their thy your\n",
      "RB: adverb\n",
      "    occasionally unabatingly maddeningly adventurously professedly\n",
      "    stirringly prominently technologically magisterially predominately\n",
      "    swiftly fiscally pitilessly ...\n",
      "RBR: adverb, comparative\n",
      "    further gloomier grander graver greater grimmer harder harsher\n",
      "    healthier heavier higher however larger later leaner lengthier less-\n",
      "    perfectly lesser lonelier longer louder lower more ...\n",
      "RBS: adverb, superlative\n",
      "    best biggest bluntest earliest farthest first furthest hardest\n",
      "    heartiest highest largest least less most nearest second tightest worst\n",
      "RP: particle\n",
      "    aboard about across along apart around aside at away back before behind\n",
      "    by crop down ever fast for forth from go high i.e. in into just later\n",
      "    low more off on open out over per pie raising start teeth that through\n",
      "    under unto up up-pp upon whole with you\n",
      "SYM: symbol\n",
      "    % & ' '' ''. ) ). * + ,. < = > @ A[fj] U.S U.S.S.R * ** ***\n",
      "TO: \"to\" as preposition or infinitive marker\n",
      "    to\n",
      "UH: interjection\n",
      "    Goodbye Goody Gosh Wow Jeepers Jee-sus Hubba Hey Kee-reist Oops amen\n",
      "    huh howdy uh dammit whammo shucks heck anyways whodunnit honey golly\n",
      "    man baby diddle hush sonuvabitch ...\n",
      "VB: verb, base form\n",
      "    ask assemble assess assign assume atone attention avoid bake balkanize\n",
      "    bank begin behold believe bend benefit bevel beware bless boil bomb\n",
      "    boost brace break bring broil brush build ...\n",
      "VBD: verb, past tense\n",
      "    dipped pleaded swiped regummed soaked tidied convened halted registered\n",
      "    cushioned exacted snubbed strode aimed adopted belied figgered\n",
      "    speculated wore appreciated contemplated ...\n",
      "VBG: verb, present participle or gerund\n",
      "    telegraphing stirring focusing angering judging stalling lactating\n",
      "    hankerin' alleging veering capping approaching traveling besieging\n",
      "    encrypting interrupting erasing wincing ...\n",
      "VBN: verb, past participle\n",
      "    multihulled dilapidated aerosolized chaired languished panelized used\n",
      "    experimented flourished imitated reunifed factored condensed sheared\n",
      "    unsettled primed dubbed desired ...\n",
      "VBP: verb, present tense, not 3rd person singular\n",
      "    predominate wrap resort sue twist spill cure lengthen brush terminate\n",
      "    appear tend stray glisten obtain comprise detest tease attract\n",
      "    emphasize mold postpone sever return wag ...\n",
      "VBZ: verb, present tense, 3rd person singular\n",
      "    bases reconstructs marks mixes displeases seals carps weaves snatches\n",
      "    slumps stretches authorizes smolders pictures emerges stockpiles\n",
      "    seduces fizzes uses bolsters slaps speaks pleads ...\n",
      "WDT: WH-determiner\n",
      "    that what whatever which whichever\n",
      "WP: WH-pronoun\n",
      "    that what whatever whatsoever which who whom whosoever\n",
      "WP$: WH-pronoun, possessive\n",
      "    whose\n",
      "WRB: Wh-adverb\n",
      "    how however whence whenever where whereby whereever wherein whereof why\n",
      "``: opening quotation mark\n",
      "    ` ``\n"
     ]
    }
   ],
   "source": [
    "nltk.help.upenn_tagset()"
   ]
  },
  {
   "cell_type": "code",
   "execution_count": 27,
   "metadata": {
    "id": "U_fhffBZqzZd"
   },
   "outputs": [],
   "source": []
  }
 ],
 "metadata": {
  "accelerator": "GPU",
  "colab": {
   "collapsed_sections": [],
   "name": "Assignment 1 Set 3.ipynb",
   "provenance": []
  },
  "kernelspec": {
   "display_name": "Python 3",
   "language": "python",
   "name": "python3"
  },
  "language_info": {
   "codemirror_mode": {
    "name": "ipython",
    "version": 3
   },
   "file_extension": ".py",
   "mimetype": "text/x-python",
   "name": "python",
   "nbconvert_exporter": "python",
   "pygments_lexer": "ipython3",
   "version": "3.7.6"
  }
 },
 "nbformat": 4,
 "nbformat_minor": 1
}
